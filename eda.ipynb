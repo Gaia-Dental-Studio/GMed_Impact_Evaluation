{
 "cells": [
  {
   "cell_type": "code",
   "execution_count": 6,
   "metadata": {},
   "outputs": [],
   "source": [
    "import pandas as pd \n",
    "import numpy as np"
   ]
  },
  {
   "cell_type": "code",
   "execution_count": 7,
   "metadata": {},
   "outputs": [],
   "source": [
    "data = pd.read_csv('ncd_prevalence_economic_burden.csv')"
   ]
  },
  {
   "cell_type": "code",
   "execution_count": 8,
   "metadata": {},
   "outputs": [
    {
     "data": {
      "application/vnd.microsoft.datawrangler.viewer.v0+json": {
       "columns": [
        {
         "name": "index",
         "rawType": "int64",
         "type": "integer"
        },
        {
         "name": "NCD",
         "rawType": "object",
         "type": "string"
        },
        {
         "name": "Prevalence 2010 (%)",
         "rawType": "object",
         "type": "unknown"
        },
        {
         "name": "Prevalence 2020 (%)",
         "rawType": "object",
         "type": "unknown"
        },
        {
         "name": "Economic Burden 2010 Direct (Int$ billions)",
         "rawType": "object",
         "type": "string"
        },
        {
         "name": "Economic Burden 2010 Indirect (Int$ billions)",
         "rawType": "object",
         "type": "string"
        },
        {
         "name": "Economic Burden 2020 Direct (Int$ billions)",
         "rawType": "object",
         "type": "string"
        },
        {
         "name": "Economic Burden 2020 Indirect (Int$ billions)",
         "rawType": "object",
         "type": "string"
        }
       ],
       "conversionMethod": "pd.DataFrame",
       "ref": "fa2bf662-d4a5-4245-8474-0984093e7af4",
       "rows": [
        [
         "0",
         "Hypertension - Self-reported",
         "19.3 [18.6, 20.1]",
         "21.3 [20.5, 22.0]",
         "0.38 [0.14, 0.63]",
         "0.68 [0.34, 1.02]",
         "0.57 [0.21, 0.93]",
         "1.00 [0.50, 1.51]"
        ],
        [
         "1",
         "Hypertension - Undiagnosed",
         "34.9 [34.0, 35.8]",
         "36.6 [35.8, 37.5]",
         "0.15 [-0.21, 0.51]",
         "0.11 [-0.43, 0.64]",
         "0.21 [-0.30, 0.73]",
         "0.15 [-0.60, 0.91]"
        ],
        [
         "2",
         "Hypertension - Total",
         "54.2 [53.3, 55.2]",
         "57.9 [57.0, 58.8]",
         "0.54 [0.10, 0.97]",
         "0.78 [0.15, 1.42]",
         "0.78 [0.15, 1.41]",
         "1.15 [0.24, 2.06]"
        ],
        [
         "3",
         "Diabetes - Self-reported",
         "3.2 [2.9, 3.5]",
         "3.8 [3.4, 4.1]",
         "0.31 [0.11, 0.52]",
         "0.37 [0.21, 0.53]",
         "0.49 [0.17, 0.82]",
         "0.58 [0.34, 0.84]"
        ],
        [
         "4",
         "Diabetes - Undiagnosed",
         "1.7 [1.4, 1.9]",
         "1.6 [1.4, 1.9]",
         "-0.02 [-0.03, 0.00]",
         "0.06 [-0.01, 0.14]",
         "-0.02 [-0.04, 0.00]",
         "0.08 [-0.02, 0.19]"
        ],
        [
         "5",
         "Diabetes - Total",
         "4.9 [4.5, 5.3]",
         "5.4 [5.0, 5.8]",
         "0.29 [0.09, 0.50]",
         "0.43 [0.26, 0.61]",
         "0.47 [0.14, 0.80]",
         "0.67 [0.40, 0.94]"
        ],
        [
         "6",
         "Heartproblems - Self-reported",
         "2.4 [2.1, 2.7]",
         "2.6 [2.3, 2.9]",
         "0.08 [0.01, 0.16]",
         "0.30 [0.16, 0.45]",
         "0.12 [0.01, 0.24]",
         "0.44 [0.24, 0.66]"
        ],
        [
         "7",
         "Heartproblems - Undiagnosed",
         "12.4 [11.7, 13.0]",
         "12.0 [11.4, 12.7]",
         "0.18 [0.01, 0.36]",
         "1.00 [0.73, 1.27]",
         "0.24 [0.02, 0.47]",
         "1.30 [0.96, 1.66]"
        ],
        [
         "8",
         "Heartproblems - Total",
         "14.8 [14.1, 15.4]",
         "14.7 [14.0, 15.4]",
         "0.27 [0.08, 0.46]",
         "1.30 [1.00, 1.60]",
         "0.36 [0.11, 0.62]",
         "1.75 [1.34, 2.16]"
        ],
        [
         "9",
         "Stroke - Self-reported",
         "1.0 [0.7, 1.3]",
         "1.2 [0.9, 1.5]",
         "0.06 [0.01, 0.12]",
         "0.21 [0.10, 0.33]",
         "0.09 [0.01, 0.18]",
         "0.32 [0.16, 0.52]"
        ],
        [
         "10",
         "Grand total",
         null,
         null,
         "1.16 [0.63, 1.68]",
         "2.72 [1.99, 3.46]",
         "1.71 [0.95, 2.46]",
         "3.89 [2.84, 4.94]"
        ]
       ],
       "shape": {
        "columns": 7,
        "rows": 11
       }
      },
      "text/html": [
       "<div>\n",
       "<style scoped>\n",
       "    .dataframe tbody tr th:only-of-type {\n",
       "        vertical-align: middle;\n",
       "    }\n",
       "\n",
       "    .dataframe tbody tr th {\n",
       "        vertical-align: top;\n",
       "    }\n",
       "\n",
       "    .dataframe thead th {\n",
       "        text-align: right;\n",
       "    }\n",
       "</style>\n",
       "<table border=\"1\" class=\"dataframe\">\n",
       "  <thead>\n",
       "    <tr style=\"text-align: right;\">\n",
       "      <th></th>\n",
       "      <th>NCD</th>\n",
       "      <th>Prevalence 2010 (%)</th>\n",
       "      <th>Prevalence 2020 (%)</th>\n",
       "      <th>Economic Burden 2010 Direct (Int$ billions)</th>\n",
       "      <th>Economic Burden 2010 Indirect (Int$ billions)</th>\n",
       "      <th>Economic Burden 2020 Direct (Int$ billions)</th>\n",
       "      <th>Economic Burden 2020 Indirect (Int$ billions)</th>\n",
       "    </tr>\n",
       "  </thead>\n",
       "  <tbody>\n",
       "    <tr>\n",
       "      <th>0</th>\n",
       "      <td>Hypertension - Self-reported</td>\n",
       "      <td>19.3 [18.6, 20.1]</td>\n",
       "      <td>21.3 [20.5, 22.0]</td>\n",
       "      <td>0.38 [0.14, 0.63]</td>\n",
       "      <td>0.68 [0.34, 1.02]</td>\n",
       "      <td>0.57 [0.21, 0.93]</td>\n",
       "      <td>1.00 [0.50, 1.51]</td>\n",
       "    </tr>\n",
       "    <tr>\n",
       "      <th>1</th>\n",
       "      <td>Hypertension - Undiagnosed</td>\n",
       "      <td>34.9 [34.0, 35.8]</td>\n",
       "      <td>36.6 [35.8, 37.5]</td>\n",
       "      <td>0.15 [-0.21, 0.51]</td>\n",
       "      <td>0.11 [-0.43, 0.64]</td>\n",
       "      <td>0.21 [-0.30, 0.73]</td>\n",
       "      <td>0.15 [-0.60, 0.91]</td>\n",
       "    </tr>\n",
       "    <tr>\n",
       "      <th>2</th>\n",
       "      <td>Hypertension - Total</td>\n",
       "      <td>54.2 [53.3, 55.2]</td>\n",
       "      <td>57.9 [57.0, 58.8]</td>\n",
       "      <td>0.54 [0.10, 0.97]</td>\n",
       "      <td>0.78 [0.15, 1.42]</td>\n",
       "      <td>0.78 [0.15, 1.41]</td>\n",
       "      <td>1.15 [0.24, 2.06]</td>\n",
       "    </tr>\n",
       "    <tr>\n",
       "      <th>3</th>\n",
       "      <td>Diabetes - Self-reported</td>\n",
       "      <td>3.2 [2.9, 3.5]</td>\n",
       "      <td>3.8 [3.4, 4.1]</td>\n",
       "      <td>0.31 [0.11, 0.52]</td>\n",
       "      <td>0.37 [0.21, 0.53]</td>\n",
       "      <td>0.49 [0.17, 0.82]</td>\n",
       "      <td>0.58 [0.34, 0.84]</td>\n",
       "    </tr>\n",
       "    <tr>\n",
       "      <th>4</th>\n",
       "      <td>Diabetes - Undiagnosed</td>\n",
       "      <td>1.7 [1.4, 1.9]</td>\n",
       "      <td>1.6 [1.4, 1.9]</td>\n",
       "      <td>-0.02 [-0.03, 0.00]</td>\n",
       "      <td>0.06 [-0.01, 0.14]</td>\n",
       "      <td>-0.02 [-0.04, 0.00]</td>\n",
       "      <td>0.08 [-0.02, 0.19]</td>\n",
       "    </tr>\n",
       "    <tr>\n",
       "      <th>5</th>\n",
       "      <td>Diabetes - Total</td>\n",
       "      <td>4.9 [4.5, 5.3]</td>\n",
       "      <td>5.4 [5.0, 5.8]</td>\n",
       "      <td>0.29 [0.09, 0.50]</td>\n",
       "      <td>0.43 [0.26, 0.61]</td>\n",
       "      <td>0.47 [0.14, 0.80]</td>\n",
       "      <td>0.67 [0.40, 0.94]</td>\n",
       "    </tr>\n",
       "    <tr>\n",
       "      <th>6</th>\n",
       "      <td>Heartproblems - Self-reported</td>\n",
       "      <td>2.4 [2.1, 2.7]</td>\n",
       "      <td>2.6 [2.3, 2.9]</td>\n",
       "      <td>0.08 [0.01, 0.16]</td>\n",
       "      <td>0.30 [0.16, 0.45]</td>\n",
       "      <td>0.12 [0.01, 0.24]</td>\n",
       "      <td>0.44 [0.24, 0.66]</td>\n",
       "    </tr>\n",
       "    <tr>\n",
       "      <th>7</th>\n",
       "      <td>Heartproblems - Undiagnosed</td>\n",
       "      <td>12.4 [11.7, 13.0]</td>\n",
       "      <td>12.0 [11.4, 12.7]</td>\n",
       "      <td>0.18 [0.01, 0.36]</td>\n",
       "      <td>1.00 [0.73, 1.27]</td>\n",
       "      <td>0.24 [0.02, 0.47]</td>\n",
       "      <td>1.30 [0.96, 1.66]</td>\n",
       "    </tr>\n",
       "    <tr>\n",
       "      <th>8</th>\n",
       "      <td>Heartproblems - Total</td>\n",
       "      <td>14.8 [14.1, 15.4]</td>\n",
       "      <td>14.7 [14.0, 15.4]</td>\n",
       "      <td>0.27 [0.08, 0.46]</td>\n",
       "      <td>1.30 [1.00, 1.60]</td>\n",
       "      <td>0.36 [0.11, 0.62]</td>\n",
       "      <td>1.75 [1.34, 2.16]</td>\n",
       "    </tr>\n",
       "    <tr>\n",
       "      <th>9</th>\n",
       "      <td>Stroke - Self-reported</td>\n",
       "      <td>1.0 [0.7, 1.3]</td>\n",
       "      <td>1.2 [0.9, 1.5]</td>\n",
       "      <td>0.06 [0.01, 0.12]</td>\n",
       "      <td>0.21 [0.10, 0.33]</td>\n",
       "      <td>0.09 [0.01, 0.18]</td>\n",
       "      <td>0.32 [0.16, 0.52]</td>\n",
       "    </tr>\n",
       "    <tr>\n",
       "      <th>10</th>\n",
       "      <td>Grand total</td>\n",
       "      <td>NaN</td>\n",
       "      <td>NaN</td>\n",
       "      <td>1.16 [0.63, 1.68]</td>\n",
       "      <td>2.72 [1.99, 3.46]</td>\n",
       "      <td>1.71 [0.95, 2.46]</td>\n",
       "      <td>3.89 [2.84, 4.94]</td>\n",
       "    </tr>\n",
       "  </tbody>\n",
       "</table>\n",
       "</div>"
      ],
      "text/plain": [
       "                              NCD Prevalence 2010 (%) Prevalence 2020 (%)  \\\n",
       "0    Hypertension - Self-reported   19.3 [18.6, 20.1]   21.3 [20.5, 22.0]   \n",
       "1      Hypertension - Undiagnosed   34.9 [34.0, 35.8]   36.6 [35.8, 37.5]   \n",
       "2            Hypertension - Total   54.2 [53.3, 55.2]   57.9 [57.0, 58.8]   \n",
       "3        Diabetes - Self-reported      3.2 [2.9, 3.5]      3.8 [3.4, 4.1]   \n",
       "4          Diabetes - Undiagnosed      1.7 [1.4, 1.9]      1.6 [1.4, 1.9]   \n",
       "5                Diabetes - Total      4.9 [4.5, 5.3]      5.4 [5.0, 5.8]   \n",
       "6   Heartproblems - Self-reported      2.4 [2.1, 2.7]      2.6 [2.3, 2.9]   \n",
       "7     Heartproblems - Undiagnosed   12.4 [11.7, 13.0]   12.0 [11.4, 12.7]   \n",
       "8           Heartproblems - Total   14.8 [14.1, 15.4]   14.7 [14.0, 15.4]   \n",
       "9          Stroke - Self-reported      1.0 [0.7, 1.3]      1.2 [0.9, 1.5]   \n",
       "10                    Grand total                 NaN                 NaN   \n",
       "\n",
       "   Economic Burden 2010 Direct (Int$ billions)  \\\n",
       "0                            0.38 [0.14, 0.63]   \n",
       "1                           0.15 [-0.21, 0.51]   \n",
       "2                            0.54 [0.10, 0.97]   \n",
       "3                            0.31 [0.11, 0.52]   \n",
       "4                          -0.02 [-0.03, 0.00]   \n",
       "5                            0.29 [0.09, 0.50]   \n",
       "6                            0.08 [0.01, 0.16]   \n",
       "7                            0.18 [0.01, 0.36]   \n",
       "8                            0.27 [0.08, 0.46]   \n",
       "9                            0.06 [0.01, 0.12]   \n",
       "10                           1.16 [0.63, 1.68]   \n",
       "\n",
       "   Economic Burden 2010 Indirect (Int$ billions)  \\\n",
       "0                              0.68 [0.34, 1.02]   \n",
       "1                             0.11 [-0.43, 0.64]   \n",
       "2                              0.78 [0.15, 1.42]   \n",
       "3                              0.37 [0.21, 0.53]   \n",
       "4                             0.06 [-0.01, 0.14]   \n",
       "5                              0.43 [0.26, 0.61]   \n",
       "6                              0.30 [0.16, 0.45]   \n",
       "7                              1.00 [0.73, 1.27]   \n",
       "8                              1.30 [1.00, 1.60]   \n",
       "9                              0.21 [0.10, 0.33]   \n",
       "10                             2.72 [1.99, 3.46]   \n",
       "\n",
       "   Economic Burden 2020 Direct (Int$ billions)  \\\n",
       "0                            0.57 [0.21, 0.93]   \n",
       "1                           0.21 [-0.30, 0.73]   \n",
       "2                            0.78 [0.15, 1.41]   \n",
       "3                            0.49 [0.17, 0.82]   \n",
       "4                          -0.02 [-0.04, 0.00]   \n",
       "5                            0.47 [0.14, 0.80]   \n",
       "6                            0.12 [0.01, 0.24]   \n",
       "7                            0.24 [0.02, 0.47]   \n",
       "8                            0.36 [0.11, 0.62]   \n",
       "9                            0.09 [0.01, 0.18]   \n",
       "10                           1.71 [0.95, 2.46]   \n",
       "\n",
       "   Economic Burden 2020 Indirect (Int$ billions)  \n",
       "0                              1.00 [0.50, 1.51]  \n",
       "1                             0.15 [-0.60, 0.91]  \n",
       "2                              1.15 [0.24, 2.06]  \n",
       "3                              0.58 [0.34, 0.84]  \n",
       "4                             0.08 [-0.02, 0.19]  \n",
       "5                              0.67 [0.40, 0.94]  \n",
       "6                              0.44 [0.24, 0.66]  \n",
       "7                              1.30 [0.96, 1.66]  \n",
       "8                              1.75 [1.34, 2.16]  \n",
       "9                              0.32 [0.16, 0.52]  \n",
       "10                             3.89 [2.84, 4.94]  "
      ]
     },
     "execution_count": 8,
     "metadata": {},
     "output_type": "execute_result"
    }
   ],
   "source": [
    "data"
   ]
  },
  {
   "cell_type": "code",
   "execution_count": 9,
   "metadata": {},
   "outputs": [
    {
     "data": {
      "application/vnd.microsoft.datawrangler.viewer.v0+json": {
       "columns": [
        {
         "name": "index",
         "rawType": "int64",
         "type": "integer"
        },
        {
         "name": "NCD",
         "rawType": "object",
         "type": "string"
        },
        {
         "name": "Prevalence 2010 (%)",
         "rawType": "object",
         "type": "unknown"
        },
        {
         "name": "Prevalence 2020 (%)",
         "rawType": "object",
         "type": "unknown"
        },
        {
         "name": "Economic Burden 2010 Direct (Int$ billions)",
         "rawType": "object",
         "type": "string"
        },
        {
         "name": "Economic Burden 2010 Indirect (Int$ billions)",
         "rawType": "object",
         "type": "string"
        },
        {
         "name": "Economic Burden 2020 Direct (Int$ billions)",
         "rawType": "object",
         "type": "string"
        },
        {
         "name": "Economic Burden 2020 Indirect (Int$ billions)",
         "rawType": "object",
         "type": "string"
        }
       ],
       "conversionMethod": "pd.DataFrame",
       "ref": "11e4643c-8a89-4de4-86c6-4cd9d428afa0",
       "rows": [
        [
         "0",
         "Hypertension - Self-reported",
         "19.3",
         "21.3",
         "0.38",
         "0.68",
         "0.57",
         "1.00"
        ],
        [
         "1",
         "Hypertension - Undiagnosed",
         "34.9",
         "36.6",
         "0.15",
         "0.11",
         "0.21",
         "0.15"
        ],
        [
         "2",
         "Hypertension - Total",
         "54.2",
         "57.9",
         "0.54",
         "0.78",
         "0.78",
         "1.15"
        ],
        [
         "3",
         "Diabetes - Self-reported",
         "3.2",
         "3.8",
         "0.31",
         "0.37",
         "0.49",
         "0.58"
        ],
        [
         "4",
         "Diabetes - Undiagnosed",
         "1.7",
         "1.6",
         "-0.02",
         "0.06",
         "-0.02",
         "0.08"
        ],
        [
         "5",
         "Diabetes - Total",
         "4.9",
         "5.4",
         "0.29",
         "0.43",
         "0.47",
         "0.67"
        ],
        [
         "6",
         "Heartproblems - Self-reported",
         "2.4",
         "2.6",
         "0.08",
         "0.30",
         "0.12",
         "0.44"
        ],
        [
         "7",
         "Heartproblems - Undiagnosed",
         "12.4",
         "12.0",
         "0.18",
         "1.00",
         "0.24",
         "1.30"
        ],
        [
         "8",
         "Heartproblems - Total",
         "14.8",
         "14.7",
         "0.27",
         "1.30",
         "0.36",
         "1.75"
        ],
        [
         "9",
         "Stroke - Self-reported",
         "1.0",
         "1.2",
         "0.06",
         "0.21",
         "0.09",
         "0.32"
        ],
        [
         "10",
         "Grand total",
         null,
         null,
         "1.16",
         "2.72",
         "1.71",
         "3.89"
        ]
       ],
       "shape": {
        "columns": 7,
        "rows": 11
       }
      },
      "text/html": [
       "<div>\n",
       "<style scoped>\n",
       "    .dataframe tbody tr th:only-of-type {\n",
       "        vertical-align: middle;\n",
       "    }\n",
       "\n",
       "    .dataframe tbody tr th {\n",
       "        vertical-align: top;\n",
       "    }\n",
       "\n",
       "    .dataframe thead th {\n",
       "        text-align: right;\n",
       "    }\n",
       "</style>\n",
       "<table border=\"1\" class=\"dataframe\">\n",
       "  <thead>\n",
       "    <tr style=\"text-align: right;\">\n",
       "      <th></th>\n",
       "      <th>NCD</th>\n",
       "      <th>Prevalence 2010 (%)</th>\n",
       "      <th>Prevalence 2020 (%)</th>\n",
       "      <th>Economic Burden 2010 Direct (Int$ billions)</th>\n",
       "      <th>Economic Burden 2010 Indirect (Int$ billions)</th>\n",
       "      <th>Economic Burden 2020 Direct (Int$ billions)</th>\n",
       "      <th>Economic Burden 2020 Indirect (Int$ billions)</th>\n",
       "    </tr>\n",
       "  </thead>\n",
       "  <tbody>\n",
       "    <tr>\n",
       "      <th>0</th>\n",
       "      <td>Hypertension - Self-reported</td>\n",
       "      <td>19.3</td>\n",
       "      <td>21.3</td>\n",
       "      <td>0.38</td>\n",
       "      <td>0.68</td>\n",
       "      <td>0.57</td>\n",
       "      <td>1.00</td>\n",
       "    </tr>\n",
       "    <tr>\n",
       "      <th>1</th>\n",
       "      <td>Hypertension - Undiagnosed</td>\n",
       "      <td>34.9</td>\n",
       "      <td>36.6</td>\n",
       "      <td>0.15</td>\n",
       "      <td>0.11</td>\n",
       "      <td>0.21</td>\n",
       "      <td>0.15</td>\n",
       "    </tr>\n",
       "    <tr>\n",
       "      <th>2</th>\n",
       "      <td>Hypertension - Total</td>\n",
       "      <td>54.2</td>\n",
       "      <td>57.9</td>\n",
       "      <td>0.54</td>\n",
       "      <td>0.78</td>\n",
       "      <td>0.78</td>\n",
       "      <td>1.15</td>\n",
       "    </tr>\n",
       "    <tr>\n",
       "      <th>3</th>\n",
       "      <td>Diabetes - Self-reported</td>\n",
       "      <td>3.2</td>\n",
       "      <td>3.8</td>\n",
       "      <td>0.31</td>\n",
       "      <td>0.37</td>\n",
       "      <td>0.49</td>\n",
       "      <td>0.58</td>\n",
       "    </tr>\n",
       "    <tr>\n",
       "      <th>4</th>\n",
       "      <td>Diabetes - Undiagnosed</td>\n",
       "      <td>1.7</td>\n",
       "      <td>1.6</td>\n",
       "      <td>-0.02</td>\n",
       "      <td>0.06</td>\n",
       "      <td>-0.02</td>\n",
       "      <td>0.08</td>\n",
       "    </tr>\n",
       "    <tr>\n",
       "      <th>5</th>\n",
       "      <td>Diabetes - Total</td>\n",
       "      <td>4.9</td>\n",
       "      <td>5.4</td>\n",
       "      <td>0.29</td>\n",
       "      <td>0.43</td>\n",
       "      <td>0.47</td>\n",
       "      <td>0.67</td>\n",
       "    </tr>\n",
       "    <tr>\n",
       "      <th>6</th>\n",
       "      <td>Heartproblems - Self-reported</td>\n",
       "      <td>2.4</td>\n",
       "      <td>2.6</td>\n",
       "      <td>0.08</td>\n",
       "      <td>0.30</td>\n",
       "      <td>0.12</td>\n",
       "      <td>0.44</td>\n",
       "    </tr>\n",
       "    <tr>\n",
       "      <th>7</th>\n",
       "      <td>Heartproblems - Undiagnosed</td>\n",
       "      <td>12.4</td>\n",
       "      <td>12.0</td>\n",
       "      <td>0.18</td>\n",
       "      <td>1.00</td>\n",
       "      <td>0.24</td>\n",
       "      <td>1.30</td>\n",
       "    </tr>\n",
       "    <tr>\n",
       "      <th>8</th>\n",
       "      <td>Heartproblems - Total</td>\n",
       "      <td>14.8</td>\n",
       "      <td>14.7</td>\n",
       "      <td>0.27</td>\n",
       "      <td>1.30</td>\n",
       "      <td>0.36</td>\n",
       "      <td>1.75</td>\n",
       "    </tr>\n",
       "    <tr>\n",
       "      <th>9</th>\n",
       "      <td>Stroke - Self-reported</td>\n",
       "      <td>1.0</td>\n",
       "      <td>1.2</td>\n",
       "      <td>0.06</td>\n",
       "      <td>0.21</td>\n",
       "      <td>0.09</td>\n",
       "      <td>0.32</td>\n",
       "    </tr>\n",
       "    <tr>\n",
       "      <th>10</th>\n",
       "      <td>Grand total</td>\n",
       "      <td>NaN</td>\n",
       "      <td>NaN</td>\n",
       "      <td>1.16</td>\n",
       "      <td>2.72</td>\n",
       "      <td>1.71</td>\n",
       "      <td>3.89</td>\n",
       "    </tr>\n",
       "  </tbody>\n",
       "</table>\n",
       "</div>"
      ],
      "text/plain": [
       "                              NCD Prevalence 2010 (%) Prevalence 2020 (%)  \\\n",
       "0    Hypertension - Self-reported                19.3                21.3   \n",
       "1      Hypertension - Undiagnosed                34.9                36.6   \n",
       "2            Hypertension - Total                54.2                57.9   \n",
       "3        Diabetes - Self-reported                 3.2                 3.8   \n",
       "4          Diabetes - Undiagnosed                 1.7                 1.6   \n",
       "5                Diabetes - Total                 4.9                 5.4   \n",
       "6   Heartproblems - Self-reported                 2.4                 2.6   \n",
       "7     Heartproblems - Undiagnosed                12.4                12.0   \n",
       "8           Heartproblems - Total                14.8                14.7   \n",
       "9          Stroke - Self-reported                 1.0                 1.2   \n",
       "10                    Grand total                 NaN                 NaN   \n",
       "\n",
       "   Economic Burden 2010 Direct (Int$ billions)  \\\n",
       "0                                         0.38   \n",
       "1                                         0.15   \n",
       "2                                         0.54   \n",
       "3                                         0.31   \n",
       "4                                        -0.02   \n",
       "5                                         0.29   \n",
       "6                                         0.08   \n",
       "7                                         0.18   \n",
       "8                                         0.27   \n",
       "9                                         0.06   \n",
       "10                                        1.16   \n",
       "\n",
       "   Economic Burden 2010 Indirect (Int$ billions)  \\\n",
       "0                                           0.68   \n",
       "1                                           0.11   \n",
       "2                                           0.78   \n",
       "3                                           0.37   \n",
       "4                                           0.06   \n",
       "5                                           0.43   \n",
       "6                                           0.30   \n",
       "7                                           1.00   \n",
       "8                                           1.30   \n",
       "9                                           0.21   \n",
       "10                                          2.72   \n",
       "\n",
       "   Economic Burden 2020 Direct (Int$ billions)  \\\n",
       "0                                         0.57   \n",
       "1                                         0.21   \n",
       "2                                         0.78   \n",
       "3                                         0.49   \n",
       "4                                        -0.02   \n",
       "5                                         0.47   \n",
       "6                                         0.12   \n",
       "7                                         0.24   \n",
       "8                                         0.36   \n",
       "9                                         0.09   \n",
       "10                                        1.71   \n",
       "\n",
       "   Economic Burden 2020 Indirect (Int$ billions)  \n",
       "0                                           1.00  \n",
       "1                                           0.15  \n",
       "2                                           1.15  \n",
       "3                                           0.58  \n",
       "4                                           0.08  \n",
       "5                                           0.67  \n",
       "6                                           0.44  \n",
       "7                                           1.30  \n",
       "8                                           1.75  \n",
       "9                                           0.32  \n",
       "10                                          3.89  "
      ]
     },
     "execution_count": 9,
     "metadata": {},
     "output_type": "execute_result"
    }
   ],
   "source": [
    "# on second column to the last, trim the data to only include first characters until it reaches the first space\n",
    "data.iloc[:,1:] = data.iloc[:,1:].apply(lambda x: x.str.split().str[0])\n",
    "\n",
    "data"
   ]
  },
  {
   "cell_type": "code",
   "execution_count": 10,
   "metadata": {},
   "outputs": [],
   "source": [
    "# convert second column to last to be numerical\n",
    "data.iloc[:,1:] = data.iloc[:,1:].apply(pd.to_numeric)"
   ]
  },
  {
   "cell_type": "code",
   "execution_count": 11,
   "metadata": {},
   "outputs": [],
   "source": [
    "data['Economic Burden 2010 Total (Int$ billions)'] = data['Economic Burden 2010 Direct (Int$ billions)'] + data['Economic Burden 2010 Indirect (Int$ billions)']\n",
    "data['Economic Burden 2020 Total (Int$ billions)'] = data['Economic Burden 2020 Direct (Int$ billions)'] + data['Economic Burden 2020 Indirect (Int$ billions)']\n",
    "\n",
    "data['Economic Burden 2020 Total (Int$ billions)'] = data['Economic Burden 2020 Total (Int$ billions)'].round(2)\n",
    "data['Economic Burden 2010 Total (Int$ billions)'] = data['Economic Burden 2010 Total (Int$ billions)'].round(2)"
   ]
  },
  {
   "cell_type": "code",
   "execution_count": 12,
   "metadata": {},
   "outputs": [
    {
     "data": {
      "application/vnd.microsoft.datawrangler.viewer.v0+json": {
       "columns": [
        {
         "name": "index",
         "rawType": "int64",
         "type": "integer"
        },
        {
         "name": "NCD",
         "rawType": "object",
         "type": "string"
        },
        {
         "name": "Prevalence 2010 (%)",
         "rawType": "object",
         "type": "unknown"
        },
        {
         "name": "Prevalence 2020 (%)",
         "rawType": "object",
         "type": "unknown"
        },
        {
         "name": "Economic Burden 2010 Direct (Int$ billions)",
         "rawType": "object",
         "type": "unknown"
        },
        {
         "name": "Economic Burden 2010 Indirect (Int$ billions)",
         "rawType": "object",
         "type": "unknown"
        },
        {
         "name": "Economic Burden 2020 Direct (Int$ billions)",
         "rawType": "object",
         "type": "unknown"
        },
        {
         "name": "Economic Burden 2020 Indirect (Int$ billions)",
         "rawType": "object",
         "type": "unknown"
        },
        {
         "name": "Economic Burden 2010 Total (Int$ billions)",
         "rawType": "object",
         "type": "unknown"
        },
        {
         "name": "Economic Burden 2020 Total (Int$ billions)",
         "rawType": "object",
         "type": "unknown"
        }
       ],
       "conversionMethod": "pd.DataFrame",
       "ref": "7c9afa84-5391-4f3a-872e-716b2c32f6eb",
       "rows": [
        [
         "0",
         "Hypertension - Self-reported",
         "19.3",
         "21.3",
         "0.38",
         "0.68",
         "0.57",
         "1.0",
         "1.06",
         "1.5699999999999998"
        ],
        [
         "1",
         "Hypertension - Undiagnosed",
         "34.9",
         "36.6",
         "0.15",
         "0.11",
         "0.21",
         "0.15",
         "0.26",
         "0.36"
        ],
        [
         "2",
         "Hypertension - Total",
         "54.2",
         "57.9",
         "0.54",
         "0.78",
         "0.78",
         "1.15",
         "1.32",
         "1.93"
        ],
        [
         "3",
         "Diabetes - Self-reported",
         "3.2",
         "3.8",
         "0.31",
         "0.37",
         "0.49",
         "0.58",
         "0.6799999999999999",
         "1.0699999999999998"
        ],
        [
         "4",
         "Diabetes - Undiagnosed",
         "1.7",
         "1.6",
         "-0.02",
         "0.06",
         "-0.02",
         "0.08",
         "0.039999999999999994",
         "0.06"
        ],
        [
         "5",
         "Diabetes - Total",
         "4.9",
         "5.4",
         "0.29",
         "0.43",
         "0.47",
         "0.67",
         "0.72",
         "1.1400000000000001"
        ],
        [
         "6",
         "Heartproblems - Self-reported",
         "2.4",
         "2.6",
         "0.08",
         "0.3",
         "0.12",
         "0.44",
         "0.38",
         "0.56"
        ],
        [
         "7",
         "Heartproblems - Undiagnosed",
         "12.4",
         "12.0",
         "0.18",
         "1.0",
         "0.24",
         "1.3",
         "1.18",
         "1.54"
        ],
        [
         "8",
         "Heartproblems - Total",
         "14.8",
         "14.7",
         "0.27",
         "1.3",
         "0.36",
         "1.75",
         "1.57",
         "2.11"
        ],
        [
         "9",
         "Stroke - Self-reported",
         "1.0",
         "1.2",
         "0.06",
         "0.21",
         "0.09",
         "0.32",
         "0.27",
         "0.41000000000000003"
        ],
        [
         "10",
         "Grand total",
         null,
         null,
         "1.16",
         "2.72",
         "1.71",
         "3.89",
         "3.88",
         "5.6"
        ]
       ],
       "shape": {
        "columns": 9,
        "rows": 11
       }
      },
      "text/html": [
       "<div>\n",
       "<style scoped>\n",
       "    .dataframe tbody tr th:only-of-type {\n",
       "        vertical-align: middle;\n",
       "    }\n",
       "\n",
       "    .dataframe tbody tr th {\n",
       "        vertical-align: top;\n",
       "    }\n",
       "\n",
       "    .dataframe thead th {\n",
       "        text-align: right;\n",
       "    }\n",
       "</style>\n",
       "<table border=\"1\" class=\"dataframe\">\n",
       "  <thead>\n",
       "    <tr style=\"text-align: right;\">\n",
       "      <th></th>\n",
       "      <th>NCD</th>\n",
       "      <th>Prevalence 2010 (%)</th>\n",
       "      <th>Prevalence 2020 (%)</th>\n",
       "      <th>Economic Burden 2010 Direct (Int$ billions)</th>\n",
       "      <th>Economic Burden 2010 Indirect (Int$ billions)</th>\n",
       "      <th>Economic Burden 2020 Direct (Int$ billions)</th>\n",
       "      <th>Economic Burden 2020 Indirect (Int$ billions)</th>\n",
       "      <th>Economic Burden 2010 Total (Int$ billions)</th>\n",
       "      <th>Economic Burden 2020 Total (Int$ billions)</th>\n",
       "    </tr>\n",
       "  </thead>\n",
       "  <tbody>\n",
       "    <tr>\n",
       "      <th>0</th>\n",
       "      <td>Hypertension - Self-reported</td>\n",
       "      <td>19.3</td>\n",
       "      <td>21.3</td>\n",
       "      <td>0.38</td>\n",
       "      <td>0.68</td>\n",
       "      <td>0.57</td>\n",
       "      <td>1.0</td>\n",
       "      <td>1.06</td>\n",
       "      <td>1.57</td>\n",
       "    </tr>\n",
       "    <tr>\n",
       "      <th>1</th>\n",
       "      <td>Hypertension - Undiagnosed</td>\n",
       "      <td>34.9</td>\n",
       "      <td>36.6</td>\n",
       "      <td>0.15</td>\n",
       "      <td>0.11</td>\n",
       "      <td>0.21</td>\n",
       "      <td>0.15</td>\n",
       "      <td>0.26</td>\n",
       "      <td>0.36</td>\n",
       "    </tr>\n",
       "    <tr>\n",
       "      <th>2</th>\n",
       "      <td>Hypertension - Total</td>\n",
       "      <td>54.2</td>\n",
       "      <td>57.9</td>\n",
       "      <td>0.54</td>\n",
       "      <td>0.78</td>\n",
       "      <td>0.78</td>\n",
       "      <td>1.15</td>\n",
       "      <td>1.32</td>\n",
       "      <td>1.93</td>\n",
       "    </tr>\n",
       "    <tr>\n",
       "      <th>3</th>\n",
       "      <td>Diabetes - Self-reported</td>\n",
       "      <td>3.2</td>\n",
       "      <td>3.8</td>\n",
       "      <td>0.31</td>\n",
       "      <td>0.37</td>\n",
       "      <td>0.49</td>\n",
       "      <td>0.58</td>\n",
       "      <td>0.68</td>\n",
       "      <td>1.07</td>\n",
       "    </tr>\n",
       "    <tr>\n",
       "      <th>4</th>\n",
       "      <td>Diabetes - Undiagnosed</td>\n",
       "      <td>1.7</td>\n",
       "      <td>1.6</td>\n",
       "      <td>-0.02</td>\n",
       "      <td>0.06</td>\n",
       "      <td>-0.02</td>\n",
       "      <td>0.08</td>\n",
       "      <td>0.04</td>\n",
       "      <td>0.06</td>\n",
       "    </tr>\n",
       "    <tr>\n",
       "      <th>5</th>\n",
       "      <td>Diabetes - Total</td>\n",
       "      <td>4.9</td>\n",
       "      <td>5.4</td>\n",
       "      <td>0.29</td>\n",
       "      <td>0.43</td>\n",
       "      <td>0.47</td>\n",
       "      <td>0.67</td>\n",
       "      <td>0.72</td>\n",
       "      <td>1.14</td>\n",
       "    </tr>\n",
       "    <tr>\n",
       "      <th>6</th>\n",
       "      <td>Heartproblems - Self-reported</td>\n",
       "      <td>2.4</td>\n",
       "      <td>2.6</td>\n",
       "      <td>0.08</td>\n",
       "      <td>0.3</td>\n",
       "      <td>0.12</td>\n",
       "      <td>0.44</td>\n",
       "      <td>0.38</td>\n",
       "      <td>0.56</td>\n",
       "    </tr>\n",
       "    <tr>\n",
       "      <th>7</th>\n",
       "      <td>Heartproblems - Undiagnosed</td>\n",
       "      <td>12.4</td>\n",
       "      <td>12.0</td>\n",
       "      <td>0.18</td>\n",
       "      <td>1.0</td>\n",
       "      <td>0.24</td>\n",
       "      <td>1.3</td>\n",
       "      <td>1.18</td>\n",
       "      <td>1.54</td>\n",
       "    </tr>\n",
       "    <tr>\n",
       "      <th>8</th>\n",
       "      <td>Heartproblems - Total</td>\n",
       "      <td>14.8</td>\n",
       "      <td>14.7</td>\n",
       "      <td>0.27</td>\n",
       "      <td>1.3</td>\n",
       "      <td>0.36</td>\n",
       "      <td>1.75</td>\n",
       "      <td>1.57</td>\n",
       "      <td>2.11</td>\n",
       "    </tr>\n",
       "    <tr>\n",
       "      <th>9</th>\n",
       "      <td>Stroke - Self-reported</td>\n",
       "      <td>1.0</td>\n",
       "      <td>1.2</td>\n",
       "      <td>0.06</td>\n",
       "      <td>0.21</td>\n",
       "      <td>0.09</td>\n",
       "      <td>0.32</td>\n",
       "      <td>0.27</td>\n",
       "      <td>0.41</td>\n",
       "    </tr>\n",
       "    <tr>\n",
       "      <th>10</th>\n",
       "      <td>Grand total</td>\n",
       "      <td>NaN</td>\n",
       "      <td>NaN</td>\n",
       "      <td>1.16</td>\n",
       "      <td>2.72</td>\n",
       "      <td>1.71</td>\n",
       "      <td>3.89</td>\n",
       "      <td>3.88</td>\n",
       "      <td>5.6</td>\n",
       "    </tr>\n",
       "  </tbody>\n",
       "</table>\n",
       "</div>"
      ],
      "text/plain": [
       "                              NCD Prevalence 2010 (%) Prevalence 2020 (%)  \\\n",
       "0    Hypertension - Self-reported                19.3                21.3   \n",
       "1      Hypertension - Undiagnosed                34.9                36.6   \n",
       "2            Hypertension - Total                54.2                57.9   \n",
       "3        Diabetes - Self-reported                 3.2                 3.8   \n",
       "4          Diabetes - Undiagnosed                 1.7                 1.6   \n",
       "5                Diabetes - Total                 4.9                 5.4   \n",
       "6   Heartproblems - Self-reported                 2.4                 2.6   \n",
       "7     Heartproblems - Undiagnosed                12.4                12.0   \n",
       "8           Heartproblems - Total                14.8                14.7   \n",
       "9          Stroke - Self-reported                 1.0                 1.2   \n",
       "10                    Grand total                 NaN                 NaN   \n",
       "\n",
       "   Economic Burden 2010 Direct (Int$ billions)  \\\n",
       "0                                         0.38   \n",
       "1                                         0.15   \n",
       "2                                         0.54   \n",
       "3                                         0.31   \n",
       "4                                        -0.02   \n",
       "5                                         0.29   \n",
       "6                                         0.08   \n",
       "7                                         0.18   \n",
       "8                                         0.27   \n",
       "9                                         0.06   \n",
       "10                                        1.16   \n",
       "\n",
       "   Economic Burden 2010 Indirect (Int$ billions)  \\\n",
       "0                                           0.68   \n",
       "1                                           0.11   \n",
       "2                                           0.78   \n",
       "3                                           0.37   \n",
       "4                                           0.06   \n",
       "5                                           0.43   \n",
       "6                                            0.3   \n",
       "7                                            1.0   \n",
       "8                                            1.3   \n",
       "9                                           0.21   \n",
       "10                                          2.72   \n",
       "\n",
       "   Economic Burden 2020 Direct (Int$ billions)  \\\n",
       "0                                         0.57   \n",
       "1                                         0.21   \n",
       "2                                         0.78   \n",
       "3                                         0.49   \n",
       "4                                        -0.02   \n",
       "5                                         0.47   \n",
       "6                                         0.12   \n",
       "7                                         0.24   \n",
       "8                                         0.36   \n",
       "9                                         0.09   \n",
       "10                                        1.71   \n",
       "\n",
       "   Economic Burden 2020 Indirect (Int$ billions)  \\\n",
       "0                                            1.0   \n",
       "1                                           0.15   \n",
       "2                                           1.15   \n",
       "3                                           0.58   \n",
       "4                                           0.08   \n",
       "5                                           0.67   \n",
       "6                                           0.44   \n",
       "7                                            1.3   \n",
       "8                                           1.75   \n",
       "9                                           0.32   \n",
       "10                                          3.89   \n",
       "\n",
       "   Economic Burden 2010 Total (Int$ billions)  \\\n",
       "0                                        1.06   \n",
       "1                                        0.26   \n",
       "2                                        1.32   \n",
       "3                                        0.68   \n",
       "4                                        0.04   \n",
       "5                                        0.72   \n",
       "6                                        0.38   \n",
       "7                                        1.18   \n",
       "8                                        1.57   \n",
       "9                                        0.27   \n",
       "10                                       3.88   \n",
       "\n",
       "   Economic Burden 2020 Total (Int$ billions)  \n",
       "0                                        1.57  \n",
       "1                                        0.36  \n",
       "2                                        1.93  \n",
       "3                                        1.07  \n",
       "4                                        0.06  \n",
       "5                                        1.14  \n",
       "6                                        0.56  \n",
       "7                                        1.54  \n",
       "8                                        2.11  \n",
       "9                                        0.41  \n",
       "10                                        5.6  "
      ]
     },
     "execution_count": 12,
     "metadata": {},
     "output_type": "execute_result"
    }
   ],
   "source": [
    "\n",
    "data"
   ]
  },
  {
   "cell_type": "code",
   "execution_count": 13,
   "metadata": {},
   "outputs": [
    {
     "data": {
      "application/vnd.microsoft.datawrangler.viewer.v0+json": {
       "columns": [
        {
         "name": "index",
         "rawType": "int64",
         "type": "integer"
        },
        {
         "name": "NCD",
         "rawType": "object",
         "type": "string"
        },
        {
         "name": "Prevalence 2010 (%)",
         "rawType": "object",
         "type": "unknown"
        },
        {
         "name": "Prevalence 2020 (%)",
         "rawType": "object",
         "type": "unknown"
        },
        {
         "name": "Economic Burden 2010 Direct (Int$ billions)",
         "rawType": "object",
         "type": "unknown"
        },
        {
         "name": "Economic Burden 2010 Indirect (Int$ billions)",
         "rawType": "object",
         "type": "unknown"
        },
        {
         "name": "Economic Burden 2020 Direct (Int$ billions)",
         "rawType": "object",
         "type": "unknown"
        },
        {
         "name": "Economic Burden 2020 Indirect (Int$ billions)",
         "rawType": "object",
         "type": "unknown"
        },
        {
         "name": "Economic Burden 2010 Total (Int$ billions)",
         "rawType": "object",
         "type": "unknown"
        },
        {
         "name": "Economic Burden 2020 Total (Int$ billions)",
         "rawType": "object",
         "type": "unknown"
        }
       ],
       "conversionMethod": "pd.DataFrame",
       "ref": "2e539a95-7de1-4b82-b4df-966ae0c83e08",
       "rows": [
        [
         "0",
         "Hypertension - Total",
         "54.2",
         "57.9",
         "0.54",
         "0.78",
         "0.78",
         "1.15",
         "1.32",
         "1.93"
        ],
        [
         "1",
         "Diabetes - Total",
         "4.9",
         "5.4",
         "0.29",
         "0.43",
         "0.47",
         "0.67",
         "0.72",
         "1.1400000000000001"
        ],
        [
         "2",
         "Heartproblems - Total",
         "14.8",
         "14.7",
         "0.27",
         "1.3",
         "0.36",
         "1.75",
         "1.57",
         "2.11"
        ]
       ],
       "shape": {
        "columns": 9,
        "rows": 3
       }
      },
      "text/html": [
       "<div>\n",
       "<style scoped>\n",
       "    .dataframe tbody tr th:only-of-type {\n",
       "        vertical-align: middle;\n",
       "    }\n",
       "\n",
       "    .dataframe tbody tr th {\n",
       "        vertical-align: top;\n",
       "    }\n",
       "\n",
       "    .dataframe thead th {\n",
       "        text-align: right;\n",
       "    }\n",
       "</style>\n",
       "<table border=\"1\" class=\"dataframe\">\n",
       "  <thead>\n",
       "    <tr style=\"text-align: right;\">\n",
       "      <th></th>\n",
       "      <th>NCD</th>\n",
       "      <th>Prevalence 2010 (%)</th>\n",
       "      <th>Prevalence 2020 (%)</th>\n",
       "      <th>Economic Burden 2010 Direct (Int$ billions)</th>\n",
       "      <th>Economic Burden 2010 Indirect (Int$ billions)</th>\n",
       "      <th>Economic Burden 2020 Direct (Int$ billions)</th>\n",
       "      <th>Economic Burden 2020 Indirect (Int$ billions)</th>\n",
       "      <th>Economic Burden 2010 Total (Int$ billions)</th>\n",
       "      <th>Economic Burden 2020 Total (Int$ billions)</th>\n",
       "    </tr>\n",
       "  </thead>\n",
       "  <tbody>\n",
       "    <tr>\n",
       "      <th>0</th>\n",
       "      <td>Hypertension - Total</td>\n",
       "      <td>54.2</td>\n",
       "      <td>57.9</td>\n",
       "      <td>0.54</td>\n",
       "      <td>0.78</td>\n",
       "      <td>0.78</td>\n",
       "      <td>1.15</td>\n",
       "      <td>1.32</td>\n",
       "      <td>1.93</td>\n",
       "    </tr>\n",
       "    <tr>\n",
       "      <th>1</th>\n",
       "      <td>Diabetes - Total</td>\n",
       "      <td>4.9</td>\n",
       "      <td>5.4</td>\n",
       "      <td>0.29</td>\n",
       "      <td>0.43</td>\n",
       "      <td>0.47</td>\n",
       "      <td>0.67</td>\n",
       "      <td>0.72</td>\n",
       "      <td>1.14</td>\n",
       "    </tr>\n",
       "    <tr>\n",
       "      <th>2</th>\n",
       "      <td>Heartproblems - Total</td>\n",
       "      <td>14.8</td>\n",
       "      <td>14.7</td>\n",
       "      <td>0.27</td>\n",
       "      <td>1.3</td>\n",
       "      <td>0.36</td>\n",
       "      <td>1.75</td>\n",
       "      <td>1.57</td>\n",
       "      <td>2.11</td>\n",
       "    </tr>\n",
       "  </tbody>\n",
       "</table>\n",
       "</div>"
      ],
      "text/plain": [
       "                     NCD Prevalence 2010 (%) Prevalence 2020 (%)  \\\n",
       "0   Hypertension - Total                54.2                57.9   \n",
       "1       Diabetes - Total                 4.9                 5.4   \n",
       "2  Heartproblems - Total                14.8                14.7   \n",
       "\n",
       "  Economic Burden 2010 Direct (Int$ billions)  \\\n",
       "0                                        0.54   \n",
       "1                                        0.29   \n",
       "2                                        0.27   \n",
       "\n",
       "  Economic Burden 2010 Indirect (Int$ billions)  \\\n",
       "0                                          0.78   \n",
       "1                                          0.43   \n",
       "2                                           1.3   \n",
       "\n",
       "  Economic Burden 2020 Direct (Int$ billions)  \\\n",
       "0                                        0.78   \n",
       "1                                        0.47   \n",
       "2                                        0.36   \n",
       "\n",
       "  Economic Burden 2020 Indirect (Int$ billions)  \\\n",
       "0                                          1.15   \n",
       "1                                          0.67   \n",
       "2                                          1.75   \n",
       "\n",
       "  Economic Burden 2010 Total (Int$ billions)  \\\n",
       "0                                       1.32   \n",
       "1                                       0.72   \n",
       "2                                       1.57   \n",
       "\n",
       "  Economic Burden 2020 Total (Int$ billions)  \n",
       "0                                       1.93  \n",
       "1                                       1.14  \n",
       "2                                       2.11  "
      ]
     },
     "execution_count": 13,
     "metadata": {},
     "output_type": "execute_result"
    }
   ],
   "source": [
    "# drop all rows where NCD column is not containing 'Total' \n",
    "data_sliced = data[data['NCD'].str.contains('Total')]\n",
    "data_sliced = data_sliced.reset_index(drop=True)\n",
    "data_sliced"
   ]
  },
  {
   "cell_type": "code",
   "execution_count": 14,
   "metadata": {},
   "outputs": [
    {
     "data": {
      "application/vnd.microsoft.datawrangler.viewer.v0+json": {
       "columns": [
        {
         "name": "index",
         "rawType": "int64",
         "type": "integer"
        },
        {
         "name": "NCD",
         "rawType": "object",
         "type": "string"
        },
        {
         "name": "Prevalence 2010 (%)",
         "rawType": "object",
         "type": "unknown"
        },
        {
         "name": "Prevalence 2020 (%)",
         "rawType": "object",
         "type": "unknown"
        },
        {
         "name": "Economic Burden 2010 Direct (Int$ billions)",
         "rawType": "object",
         "type": "unknown"
        },
        {
         "name": "Economic Burden 2010 Indirect (Int$ billions)",
         "rawType": "object",
         "type": "unknown"
        },
        {
         "name": "Economic Burden 2020 Direct (Int$ billions)",
         "rawType": "object",
         "type": "unknown"
        },
        {
         "name": "Economic Burden 2020 Indirect (Int$ billions)",
         "rawType": "object",
         "type": "unknown"
        },
        {
         "name": "Economic Burden 2010 Total (Int$ billions)",
         "rawType": "object",
         "type": "unknown"
        },
        {
         "name": "Economic Burden 2020 Total (Int$ billions)",
         "rawType": "object",
         "type": "unknown"
        }
       ],
       "conversionMethod": "pd.DataFrame",
       "ref": "a3a490e0-3600-418d-86e1-597bc74f2066",
       "rows": [
        [
         "0",
         "Hypertension - Total",
         "54.2",
         "57.9",
         "0.54",
         "0.78",
         "0.78",
         "1.15",
         "1.32",
         "1.93"
        ],
        [
         "1",
         "Diabetes - Total",
         "4.9",
         "5.4",
         "0.29",
         "0.43",
         "0.47",
         "0.67",
         "0.72",
         "1.1400000000000001"
        ],
        [
         "2",
         "Heartproblems - Total",
         "14.8",
         "14.7",
         "0.27",
         "1.3",
         "0.36",
         "1.75",
         "1.57",
         "2.11"
        ],
        [
         "3",
         "Stroke - Self-reported",
         "1.0",
         "1.2",
         "0.06",
         "0.21",
         "0.09",
         "0.32",
         "0.27",
         "0.41000000000000003"
        ],
        [
         "4",
         "Grand total",
         null,
         null,
         "1.16",
         "2.72",
         "1.71",
         "3.89",
         "3.88",
         "5.6"
        ]
       ],
       "shape": {
        "columns": 9,
        "rows": 5
       }
      },
      "text/html": [
       "<div>\n",
       "<style scoped>\n",
       "    .dataframe tbody tr th:only-of-type {\n",
       "        vertical-align: middle;\n",
       "    }\n",
       "\n",
       "    .dataframe tbody tr th {\n",
       "        vertical-align: top;\n",
       "    }\n",
       "\n",
       "    .dataframe thead th {\n",
       "        text-align: right;\n",
       "    }\n",
       "</style>\n",
       "<table border=\"1\" class=\"dataframe\">\n",
       "  <thead>\n",
       "    <tr style=\"text-align: right;\">\n",
       "      <th></th>\n",
       "      <th>NCD</th>\n",
       "      <th>Prevalence 2010 (%)</th>\n",
       "      <th>Prevalence 2020 (%)</th>\n",
       "      <th>Economic Burden 2010 Direct (Int$ billions)</th>\n",
       "      <th>Economic Burden 2010 Indirect (Int$ billions)</th>\n",
       "      <th>Economic Burden 2020 Direct (Int$ billions)</th>\n",
       "      <th>Economic Burden 2020 Indirect (Int$ billions)</th>\n",
       "      <th>Economic Burden 2010 Total (Int$ billions)</th>\n",
       "      <th>Economic Burden 2020 Total (Int$ billions)</th>\n",
       "    </tr>\n",
       "  </thead>\n",
       "  <tbody>\n",
       "    <tr>\n",
       "      <th>0</th>\n",
       "      <td>Hypertension - Total</td>\n",
       "      <td>54.2</td>\n",
       "      <td>57.9</td>\n",
       "      <td>0.54</td>\n",
       "      <td>0.78</td>\n",
       "      <td>0.78</td>\n",
       "      <td>1.15</td>\n",
       "      <td>1.32</td>\n",
       "      <td>1.93</td>\n",
       "    </tr>\n",
       "    <tr>\n",
       "      <th>1</th>\n",
       "      <td>Diabetes - Total</td>\n",
       "      <td>4.9</td>\n",
       "      <td>5.4</td>\n",
       "      <td>0.29</td>\n",
       "      <td>0.43</td>\n",
       "      <td>0.47</td>\n",
       "      <td>0.67</td>\n",
       "      <td>0.72</td>\n",
       "      <td>1.14</td>\n",
       "    </tr>\n",
       "    <tr>\n",
       "      <th>2</th>\n",
       "      <td>Heartproblems - Total</td>\n",
       "      <td>14.8</td>\n",
       "      <td>14.7</td>\n",
       "      <td>0.27</td>\n",
       "      <td>1.3</td>\n",
       "      <td>0.36</td>\n",
       "      <td>1.75</td>\n",
       "      <td>1.57</td>\n",
       "      <td>2.11</td>\n",
       "    </tr>\n",
       "    <tr>\n",
       "      <th>3</th>\n",
       "      <td>Stroke - Self-reported</td>\n",
       "      <td>1.0</td>\n",
       "      <td>1.2</td>\n",
       "      <td>0.06</td>\n",
       "      <td>0.21</td>\n",
       "      <td>0.09</td>\n",
       "      <td>0.32</td>\n",
       "      <td>0.27</td>\n",
       "      <td>0.41</td>\n",
       "    </tr>\n",
       "    <tr>\n",
       "      <th>4</th>\n",
       "      <td>Grand total</td>\n",
       "      <td>NaN</td>\n",
       "      <td>NaN</td>\n",
       "      <td>1.16</td>\n",
       "      <td>2.72</td>\n",
       "      <td>1.71</td>\n",
       "      <td>3.89</td>\n",
       "      <td>3.88</td>\n",
       "      <td>5.6</td>\n",
       "    </tr>\n",
       "  </tbody>\n",
       "</table>\n",
       "</div>"
      ],
      "text/plain": [
       "                      NCD Prevalence 2010 (%) Prevalence 2020 (%)  \\\n",
       "0    Hypertension - Total                54.2                57.9   \n",
       "1        Diabetes - Total                 4.9                 5.4   \n",
       "2   Heartproblems - Total                14.8                14.7   \n",
       "3  Stroke - Self-reported                 1.0                 1.2   \n",
       "4             Grand total                 NaN                 NaN   \n",
       "\n",
       "  Economic Burden 2010 Direct (Int$ billions)  \\\n",
       "0                                        0.54   \n",
       "1                                        0.29   \n",
       "2                                        0.27   \n",
       "3                                        0.06   \n",
       "4                                        1.16   \n",
       "\n",
       "  Economic Burden 2010 Indirect (Int$ billions)  \\\n",
       "0                                          0.78   \n",
       "1                                          0.43   \n",
       "2                                           1.3   \n",
       "3                                          0.21   \n",
       "4                                          2.72   \n",
       "\n",
       "  Economic Burden 2020 Direct (Int$ billions)  \\\n",
       "0                                        0.78   \n",
       "1                                        0.47   \n",
       "2                                        0.36   \n",
       "3                                        0.09   \n",
       "4                                        1.71   \n",
       "\n",
       "  Economic Burden 2020 Indirect (Int$ billions)  \\\n",
       "0                                          1.15   \n",
       "1                                          0.67   \n",
       "2                                          1.75   \n",
       "3                                          0.32   \n",
       "4                                          3.89   \n",
       "\n",
       "  Economic Burden 2010 Total (Int$ billions)  \\\n",
       "0                                       1.32   \n",
       "1                                       0.72   \n",
       "2                                       1.57   \n",
       "3                                       0.27   \n",
       "4                                       3.88   \n",
       "\n",
       "  Economic Burden 2020 Total (Int$ billions)  \n",
       "0                                       1.93  \n",
       "1                                       1.14  \n",
       "2                                       2.11  \n",
       "3                                       0.41  \n",
       "4                                        5.6  "
      ]
     },
     "execution_count": 14,
     "metadata": {},
     "output_type": "execute_result"
    }
   ],
   "source": [
    "# add the last two rows of data to data_sliced\n",
    "data_sliced = pd.concat([data_sliced, data.iloc[-2:,:]], ignore_index=True)\n",
    "data_sliced"
   ]
  },
  {
   "cell_type": "code",
   "execution_count": 15,
   "metadata": {},
   "outputs": [
    {
     "data": {
      "application/vnd.microsoft.datawrangler.viewer.v0+json": {
       "columns": [
        {
         "name": "index",
         "rawType": "int64",
         "type": "integer"
        },
        {
         "name": "NCD",
         "rawType": "object",
         "type": "string"
        },
        {
         "name": "Prevalence 2010 (%)",
         "rawType": "object",
         "type": "unknown"
        },
        {
         "name": "Prevalence 2020 (%)",
         "rawType": "object",
         "type": "unknown"
        },
        {
         "name": "Economic Burden 2010 Direct (Int$ billions)",
         "rawType": "object",
         "type": "unknown"
        },
        {
         "name": "Economic Burden 2010 Indirect (Int$ billions)",
         "rawType": "object",
         "type": "unknown"
        },
        {
         "name": "Economic Burden 2020 Direct (Int$ billions)",
         "rawType": "object",
         "type": "unknown"
        },
        {
         "name": "Economic Burden 2020 Indirect (Int$ billions)",
         "rawType": "object",
         "type": "unknown"
        },
        {
         "name": "Economic Burden 2010 Total (Int$ billions)",
         "rawType": "object",
         "type": "unknown"
        },
        {
         "name": "Economic Burden 2020 Total (Int$ billions)",
         "rawType": "object",
         "type": "unknown"
        }
       ],
       "conversionMethod": "pd.DataFrame",
       "ref": "1e51b479-1baa-459f-92f9-bc96570b1003",
       "rows": [
        [
         "0",
         "Hypertension - Total",
         "54.2",
         "57.9",
         "0.54",
         "0.78",
         "0.78",
         "1.15",
         "1.32",
         "1.93"
        ],
        [
         "1",
         "Diabetes - Total",
         "4.9",
         "5.4",
         "0.29",
         "0.43",
         "0.47",
         "0.67",
         "0.72",
         "1.1400000000000001"
        ],
        [
         "2",
         "Heartproblems - Total",
         "14.8",
         "14.7",
         "0.27",
         "1.3",
         "0.36",
         "1.75",
         "1.57",
         "2.11"
        ],
        [
         "3",
         "Stroke - Self-reported",
         "1.0",
         "1.2",
         "0.06",
         "0.21",
         "0.09",
         "0.32",
         "0.27",
         "0.41000000000000003"
        ]
       ],
       "shape": {
        "columns": 9,
        "rows": 4
       }
      },
      "text/html": [
       "<div>\n",
       "<style scoped>\n",
       "    .dataframe tbody tr th:only-of-type {\n",
       "        vertical-align: middle;\n",
       "    }\n",
       "\n",
       "    .dataframe tbody tr th {\n",
       "        vertical-align: top;\n",
       "    }\n",
       "\n",
       "    .dataframe thead th {\n",
       "        text-align: right;\n",
       "    }\n",
       "</style>\n",
       "<table border=\"1\" class=\"dataframe\">\n",
       "  <thead>\n",
       "    <tr style=\"text-align: right;\">\n",
       "      <th></th>\n",
       "      <th>NCD</th>\n",
       "      <th>Prevalence 2010 (%)</th>\n",
       "      <th>Prevalence 2020 (%)</th>\n",
       "      <th>Economic Burden 2010 Direct (Int$ billions)</th>\n",
       "      <th>Economic Burden 2010 Indirect (Int$ billions)</th>\n",
       "      <th>Economic Burden 2020 Direct (Int$ billions)</th>\n",
       "      <th>Economic Burden 2020 Indirect (Int$ billions)</th>\n",
       "      <th>Economic Burden 2010 Total (Int$ billions)</th>\n",
       "      <th>Economic Burden 2020 Total (Int$ billions)</th>\n",
       "    </tr>\n",
       "  </thead>\n",
       "  <tbody>\n",
       "    <tr>\n",
       "      <th>0</th>\n",
       "      <td>Hypertension - Total</td>\n",
       "      <td>54.2</td>\n",
       "      <td>57.9</td>\n",
       "      <td>0.54</td>\n",
       "      <td>0.78</td>\n",
       "      <td>0.78</td>\n",
       "      <td>1.15</td>\n",
       "      <td>1.32</td>\n",
       "      <td>1.93</td>\n",
       "    </tr>\n",
       "    <tr>\n",
       "      <th>1</th>\n",
       "      <td>Diabetes - Total</td>\n",
       "      <td>4.9</td>\n",
       "      <td>5.4</td>\n",
       "      <td>0.29</td>\n",
       "      <td>0.43</td>\n",
       "      <td>0.47</td>\n",
       "      <td>0.67</td>\n",
       "      <td>0.72</td>\n",
       "      <td>1.14</td>\n",
       "    </tr>\n",
       "    <tr>\n",
       "      <th>2</th>\n",
       "      <td>Heartproblems - Total</td>\n",
       "      <td>14.8</td>\n",
       "      <td>14.7</td>\n",
       "      <td>0.27</td>\n",
       "      <td>1.3</td>\n",
       "      <td>0.36</td>\n",
       "      <td>1.75</td>\n",
       "      <td>1.57</td>\n",
       "      <td>2.11</td>\n",
       "    </tr>\n",
       "    <tr>\n",
       "      <th>3</th>\n",
       "      <td>Stroke - Self-reported</td>\n",
       "      <td>1.0</td>\n",
       "      <td>1.2</td>\n",
       "      <td>0.06</td>\n",
       "      <td>0.21</td>\n",
       "      <td>0.09</td>\n",
       "      <td>0.32</td>\n",
       "      <td>0.27</td>\n",
       "      <td>0.41</td>\n",
       "    </tr>\n",
       "  </tbody>\n",
       "</table>\n",
       "</div>"
      ],
      "text/plain": [
       "                      NCD Prevalence 2010 (%) Prevalence 2020 (%)  \\\n",
       "0    Hypertension - Total                54.2                57.9   \n",
       "1        Diabetes - Total                 4.9                 5.4   \n",
       "2   Heartproblems - Total                14.8                14.7   \n",
       "3  Stroke - Self-reported                 1.0                 1.2   \n",
       "\n",
       "  Economic Burden 2010 Direct (Int$ billions)  \\\n",
       "0                                        0.54   \n",
       "1                                        0.29   \n",
       "2                                        0.27   \n",
       "3                                        0.06   \n",
       "\n",
       "  Economic Burden 2010 Indirect (Int$ billions)  \\\n",
       "0                                          0.78   \n",
       "1                                          0.43   \n",
       "2                                           1.3   \n",
       "3                                          0.21   \n",
       "\n",
       "  Economic Burden 2020 Direct (Int$ billions)  \\\n",
       "0                                        0.78   \n",
       "1                                        0.47   \n",
       "2                                        0.36   \n",
       "3                                        0.09   \n",
       "\n",
       "  Economic Burden 2020 Indirect (Int$ billions)  \\\n",
       "0                                          1.15   \n",
       "1                                          0.67   \n",
       "2                                          1.75   \n",
       "3                                          0.32   \n",
       "\n",
       "  Economic Burden 2010 Total (Int$ billions)  \\\n",
       "0                                       1.32   \n",
       "1                                       0.72   \n",
       "2                                       1.57   \n",
       "3                                       0.27   \n",
       "\n",
       "  Economic Burden 2020 Total (Int$ billions)  \n",
       "0                                       1.93  \n",
       "1                                       1.14  \n",
       "2                                       2.11  \n",
       "3                                       0.41  "
      ]
     },
     "execution_count": 15,
     "metadata": {},
     "output_type": "execute_result"
    }
   ],
   "source": [
    "data_sliced = data_sliced[:-1]\n",
    "data_sliced"
   ]
  },
  {
   "cell_type": "code",
   "execution_count": 16,
   "metadata": {},
   "outputs": [
    {
     "name": "stderr",
     "output_type": "stream",
     "text": [
      "C:\\Users\\Zak\\AppData\\Local\\Temp\\ipykernel_12312\\1387198097.py:2: SettingWithCopyWarning: \n",
      "A value is trying to be set on a copy of a slice from a DataFrame.\n",
      "Try using .loc[row_indexer,col_indexer] = value instead\n",
      "\n",
      "See the caveats in the documentation: https://pandas.pydata.org/pandas-docs/stable/user_guide/indexing.html#returning-a-view-versus-a-copy\n",
      "  data_sliced['NCD'] = data_sliced['NCD'].str.split().str[0]\n"
     ]
    },
    {
     "data": {
      "application/vnd.microsoft.datawrangler.viewer.v0+json": {
       "columns": [
        {
         "name": "index",
         "rawType": "int64",
         "type": "integer"
        },
        {
         "name": "NCD",
         "rawType": "object",
         "type": "string"
        },
        {
         "name": "Prevalence 2010 (%)",
         "rawType": "object",
         "type": "unknown"
        },
        {
         "name": "Prevalence 2020 (%)",
         "rawType": "object",
         "type": "unknown"
        },
        {
         "name": "Economic Burden 2010 Direct (Int$ billions)",
         "rawType": "object",
         "type": "unknown"
        },
        {
         "name": "Economic Burden 2010 Indirect (Int$ billions)",
         "rawType": "object",
         "type": "unknown"
        },
        {
         "name": "Economic Burden 2020 Direct (Int$ billions)",
         "rawType": "object",
         "type": "unknown"
        },
        {
         "name": "Economic Burden 2020 Indirect (Int$ billions)",
         "rawType": "object",
         "type": "unknown"
        },
        {
         "name": "Economic Burden 2010 Total (Int$ billions)",
         "rawType": "object",
         "type": "unknown"
        },
        {
         "name": "Economic Burden 2020 Total (Int$ billions)",
         "rawType": "object",
         "type": "unknown"
        }
       ],
       "conversionMethod": "pd.DataFrame",
       "ref": "29a7347a-d2d0-43d7-9f6b-fcb0ec0730fb",
       "rows": [
        [
         "0",
         "Hypertension",
         "54.2",
         "57.9",
         "0.54",
         "0.78",
         "0.78",
         "1.15",
         "1.32",
         "1.93"
        ],
        [
         "1",
         "Diabetes",
         "4.9",
         "5.4",
         "0.29",
         "0.43",
         "0.47",
         "0.67",
         "0.72",
         "1.1400000000000001"
        ],
        [
         "2",
         "Heartproblems",
         "14.8",
         "14.7",
         "0.27",
         "1.3",
         "0.36",
         "1.75",
         "1.57",
         "2.11"
        ],
        [
         "3",
         "Stroke",
         "1.0",
         "1.2",
         "0.06",
         "0.21",
         "0.09",
         "0.32",
         "0.27",
         "0.41000000000000003"
        ]
       ],
       "shape": {
        "columns": 9,
        "rows": 4
       }
      },
      "text/html": [
       "<div>\n",
       "<style scoped>\n",
       "    .dataframe tbody tr th:only-of-type {\n",
       "        vertical-align: middle;\n",
       "    }\n",
       "\n",
       "    .dataframe tbody tr th {\n",
       "        vertical-align: top;\n",
       "    }\n",
       "\n",
       "    .dataframe thead th {\n",
       "        text-align: right;\n",
       "    }\n",
       "</style>\n",
       "<table border=\"1\" class=\"dataframe\">\n",
       "  <thead>\n",
       "    <tr style=\"text-align: right;\">\n",
       "      <th></th>\n",
       "      <th>NCD</th>\n",
       "      <th>Prevalence 2010 (%)</th>\n",
       "      <th>Prevalence 2020 (%)</th>\n",
       "      <th>Economic Burden 2010 Direct (Int$ billions)</th>\n",
       "      <th>Economic Burden 2010 Indirect (Int$ billions)</th>\n",
       "      <th>Economic Burden 2020 Direct (Int$ billions)</th>\n",
       "      <th>Economic Burden 2020 Indirect (Int$ billions)</th>\n",
       "      <th>Economic Burden 2010 Total (Int$ billions)</th>\n",
       "      <th>Economic Burden 2020 Total (Int$ billions)</th>\n",
       "    </tr>\n",
       "  </thead>\n",
       "  <tbody>\n",
       "    <tr>\n",
       "      <th>0</th>\n",
       "      <td>Hypertension</td>\n",
       "      <td>54.2</td>\n",
       "      <td>57.9</td>\n",
       "      <td>0.54</td>\n",
       "      <td>0.78</td>\n",
       "      <td>0.78</td>\n",
       "      <td>1.15</td>\n",
       "      <td>1.32</td>\n",
       "      <td>1.93</td>\n",
       "    </tr>\n",
       "    <tr>\n",
       "      <th>1</th>\n",
       "      <td>Diabetes</td>\n",
       "      <td>4.9</td>\n",
       "      <td>5.4</td>\n",
       "      <td>0.29</td>\n",
       "      <td>0.43</td>\n",
       "      <td>0.47</td>\n",
       "      <td>0.67</td>\n",
       "      <td>0.72</td>\n",
       "      <td>1.14</td>\n",
       "    </tr>\n",
       "    <tr>\n",
       "      <th>2</th>\n",
       "      <td>Heartproblems</td>\n",
       "      <td>14.8</td>\n",
       "      <td>14.7</td>\n",
       "      <td>0.27</td>\n",
       "      <td>1.3</td>\n",
       "      <td>0.36</td>\n",
       "      <td>1.75</td>\n",
       "      <td>1.57</td>\n",
       "      <td>2.11</td>\n",
       "    </tr>\n",
       "    <tr>\n",
       "      <th>3</th>\n",
       "      <td>Stroke</td>\n",
       "      <td>1.0</td>\n",
       "      <td>1.2</td>\n",
       "      <td>0.06</td>\n",
       "      <td>0.21</td>\n",
       "      <td>0.09</td>\n",
       "      <td>0.32</td>\n",
       "      <td>0.27</td>\n",
       "      <td>0.41</td>\n",
       "    </tr>\n",
       "  </tbody>\n",
       "</table>\n",
       "</div>"
      ],
      "text/plain": [
       "             NCD Prevalence 2010 (%) Prevalence 2020 (%)  \\\n",
       "0   Hypertension                54.2                57.9   \n",
       "1       Diabetes                 4.9                 5.4   \n",
       "2  Heartproblems                14.8                14.7   \n",
       "3         Stroke                 1.0                 1.2   \n",
       "\n",
       "  Economic Burden 2010 Direct (Int$ billions)  \\\n",
       "0                                        0.54   \n",
       "1                                        0.29   \n",
       "2                                        0.27   \n",
       "3                                        0.06   \n",
       "\n",
       "  Economic Burden 2010 Indirect (Int$ billions)  \\\n",
       "0                                          0.78   \n",
       "1                                          0.43   \n",
       "2                                           1.3   \n",
       "3                                          0.21   \n",
       "\n",
       "  Economic Burden 2020 Direct (Int$ billions)  \\\n",
       "0                                        0.78   \n",
       "1                                        0.47   \n",
       "2                                        0.36   \n",
       "3                                        0.09   \n",
       "\n",
       "  Economic Burden 2020 Indirect (Int$ billions)  \\\n",
       "0                                          1.15   \n",
       "1                                          0.67   \n",
       "2                                          1.75   \n",
       "3                                          0.32   \n",
       "\n",
       "  Economic Burden 2010 Total (Int$ billions)  \\\n",
       "0                                       1.32   \n",
       "1                                       0.72   \n",
       "2                                       1.57   \n",
       "3                                       0.27   \n",
       "\n",
       "  Economic Burden 2020 Total (Int$ billions)  \n",
       "0                                       1.93  \n",
       "1                                       1.14  \n",
       "2                                       2.11  \n",
       "3                                       0.41  "
      ]
     },
     "execution_count": 16,
     "metadata": {},
     "output_type": "execute_result"
    }
   ],
   "source": [
    "# rename all the value in column NCD that only retrieve the first word before the first space\n",
    "data_sliced['NCD'] = data_sliced['NCD'].str.split().str[0]\n",
    "data_sliced"
   ]
  },
  {
   "cell_type": "code",
   "execution_count": 17,
   "metadata": {},
   "outputs": [
    {
     "data": {
      "text/plain": [
       "Index(['NCD', 'Prevalence 2010 (%)', 'Prevalence 2020 (%)',\n",
       "       'Economic Burden 2010 Direct (Int$ billions)',\n",
       "       'Economic Burden 2010 Indirect (Int$ billions)',\n",
       "       'Economic Burden 2020 Direct (Int$ billions)',\n",
       "       'Economic Burden 2020 Indirect (Int$ billions)',\n",
       "       'Economic Burden 2010 Total (Int$ billions)',\n",
       "       'Economic Burden 2020 Total (Int$ billions)'],\n",
       "      dtype='object')"
      ]
     },
     "execution_count": 17,
     "metadata": {},
     "output_type": "execute_result"
    }
   ],
   "source": [
    "data_sliced.columns\n"
   ]
  },
  {
   "cell_type": "code",
   "execution_count": 18,
   "metadata": {},
   "outputs": [
    {
     "name": "stderr",
     "output_type": "stream",
     "text": [
      "C:\\Users\\Zak\\AppData\\Local\\Temp\\ipykernel_12312\\1370875731.py:2: SettingWithCopyWarning: \n",
      "A value is trying to be set on a copy of a slice from a DataFrame\n",
      "\n",
      "See the caveats in the documentation: https://pandas.pydata.org/pandas-docs/stable/user_guide/indexing.html#returning-a-view-versus-a-copy\n",
      "  data_prevalence.rename(columns={'Prevalence 2010 (%)': 2010, 'Prevalence 2020 (%)': 2020}, inplace=True)\n"
     ]
    },
    {
     "data": {
      "application/vnd.microsoft.datawrangler.viewer.v0+json": {
       "columns": [
        {
         "name": "index",
         "rawType": "int64",
         "type": "integer"
        },
        {
         "name": "NCD",
         "rawType": "object",
         "type": "string"
        },
        {
         "name": "2010",
         "rawType": "object",
         "type": "unknown"
        },
        {
         "name": "2020",
         "rawType": "object",
         "type": "unknown"
        }
       ],
       "conversionMethod": "pd.DataFrame",
       "ref": "01f5f735-8345-45d9-907f-bc50dcfde612",
       "rows": [
        [
         "0",
         "Hypertension",
         "54.2",
         "57.9"
        ],
        [
         "1",
         "Diabetes",
         "4.9",
         "5.4"
        ],
        [
         "2",
         "Heartproblems",
         "14.8",
         "14.7"
        ],
        [
         "3",
         "Stroke",
         "1.0",
         "1.2"
        ]
       ],
       "shape": {
        "columns": 3,
        "rows": 4
       }
      },
      "text/html": [
       "<div>\n",
       "<style scoped>\n",
       "    .dataframe tbody tr th:only-of-type {\n",
       "        vertical-align: middle;\n",
       "    }\n",
       "\n",
       "    .dataframe tbody tr th {\n",
       "        vertical-align: top;\n",
       "    }\n",
       "\n",
       "    .dataframe thead th {\n",
       "        text-align: right;\n",
       "    }\n",
       "</style>\n",
       "<table border=\"1\" class=\"dataframe\">\n",
       "  <thead>\n",
       "    <tr style=\"text-align: right;\">\n",
       "      <th></th>\n",
       "      <th>NCD</th>\n",
       "      <th>2010</th>\n",
       "      <th>2020</th>\n",
       "    </tr>\n",
       "  </thead>\n",
       "  <tbody>\n",
       "    <tr>\n",
       "      <th>0</th>\n",
       "      <td>Hypertension</td>\n",
       "      <td>54.2</td>\n",
       "      <td>57.9</td>\n",
       "    </tr>\n",
       "    <tr>\n",
       "      <th>1</th>\n",
       "      <td>Diabetes</td>\n",
       "      <td>4.9</td>\n",
       "      <td>5.4</td>\n",
       "    </tr>\n",
       "    <tr>\n",
       "      <th>2</th>\n",
       "      <td>Heartproblems</td>\n",
       "      <td>14.8</td>\n",
       "      <td>14.7</td>\n",
       "    </tr>\n",
       "    <tr>\n",
       "      <th>3</th>\n",
       "      <td>Stroke</td>\n",
       "      <td>1.0</td>\n",
       "      <td>1.2</td>\n",
       "    </tr>\n",
       "  </tbody>\n",
       "</table>\n",
       "</div>"
      ],
      "text/plain": [
       "             NCD  2010  2020\n",
       "0   Hypertension  54.2  57.9\n",
       "1       Diabetes   4.9   5.4\n",
       "2  Heartproblems  14.8  14.7\n",
       "3         Stroke   1.0   1.2"
      ]
     },
     "execution_count": 18,
     "metadata": {},
     "output_type": "execute_result"
    }
   ],
   "source": [
    "data_prevalence = data_sliced[['NCD', 'Prevalence 2010 (%)', 'Prevalence 2020 (%)']]\n",
    "data_prevalence.rename(columns={'Prevalence 2010 (%)': 2010, 'Prevalence 2020 (%)': 2020}, inplace=True)\n",
    "data_prevalence"
   ]
  },
  {
   "cell_type": "code",
   "execution_count": 19,
   "metadata": {},
   "outputs": [],
   "source": [
    "\n",
    "# Set 'NCD' as the index and transpose the DataFrame\n",
    "data_prevalence = data_prevalence.set_index(\"NCD\").T\n",
    "\n",
    "# Calculate the constant yearly increase per NCD\n",
    "increments_corrected = ((data_prevalence.loc[2020] - data_prevalence.loc[2010]) / 10).round(2)\n",
    "\n",
    "# Generate yearly values from 2011 to 2019 with even increments\n",
    "years_2010_2020_corrected = {\n",
    "    year: data_prevalence.loc[2010] + increments_corrected * (year - 2010) \n",
    "    for year in range(2011, 2020)\n",
    "}\n",
    "data_extended_corrected = pd.DataFrame(years_2010_2020_corrected).T\n",
    "\n",
    "# Append original 2010 and 2020 data\n",
    "data_extended_corrected = pd.concat([data_prevalence.loc[[2010]], data_extended_corrected, data_prevalence.loc[[2020]]])\n",
    "\n",
    "# Extend from 2021 to 2030 using the same even increment values\n",
    "years_2021_2030_corrected = {\n",
    "    year: data_extended_corrected.loc[2020] + increments_corrected * (year - 2020) \n",
    "    for year in range(2021, 2031)\n",
    "}\n",
    "data_final_corrected = pd.DataFrame(years_2021_2030_corrected).T\n",
    "\n",
    "# Combine all periods into a single DataFrame\n",
    "final_df_corrected = pd.concat([data_extended_corrected, data_final_corrected])\n",
    "\n"
   ]
  },
  {
   "cell_type": "code",
   "execution_count": 20,
   "metadata": {},
   "outputs": [
    {
     "data": {
      "application/vnd.microsoft.datawrangler.viewer.v0+json": {
       "columns": [
        {
         "name": "index",
         "rawType": "int64",
         "type": "integer"
        },
        {
         "name": "Hypertension",
         "rawType": "float64",
         "type": "float"
        },
        {
         "name": "Diabetes",
         "rawType": "float64",
         "type": "float"
        },
        {
         "name": "Heartproblems",
         "rawType": "float64",
         "type": "float"
        },
        {
         "name": "Stroke",
         "rawType": "float64",
         "type": "float"
        }
       ],
       "conversionMethod": "pd.DataFrame",
       "ref": "3632ead7-81d0-448b-9def-c07cdada4205",
       "rows": [
        [
         "2010",
         "54.2",
         "4.9",
         "14.8",
         "1.0"
        ],
        [
         "2011",
         "54.57",
         "4.95",
         "14.79",
         "1.02"
        ],
        [
         "2012",
         "54.94",
         "5.0",
         "14.78",
         "1.04"
        ],
        [
         "2013",
         "55.31",
         "5.05",
         "14.77",
         "1.06"
        ],
        [
         "2014",
         "55.68",
         "5.1",
         "14.76",
         "1.08"
        ],
        [
         "2015",
         "56.05",
         "5.15",
         "14.75",
         "1.1"
        ],
        [
         "2016",
         "56.42",
         "5.2",
         "14.74",
         "1.12"
        ],
        [
         "2017",
         "56.79",
         "5.25",
         "14.73",
         "1.14"
        ],
        [
         "2018",
         "57.16",
         "5.3",
         "14.72",
         "1.16"
        ],
        [
         "2019",
         "57.53",
         "5.35",
         "14.71",
         "1.18"
        ],
        [
         "2020",
         "57.9",
         "5.4",
         "14.7",
         "1.2"
        ],
        [
         "2021",
         "58.27",
         "5.45",
         "14.69",
         "1.22"
        ],
        [
         "2022",
         "58.64",
         "5.5",
         "14.68",
         "1.24"
        ],
        [
         "2023",
         "59.01",
         "5.55",
         "14.67",
         "1.26"
        ],
        [
         "2024",
         "59.38",
         "5.6",
         "14.66",
         "1.28"
        ],
        [
         "2025",
         "59.75",
         "5.65",
         "14.65",
         "1.3"
        ],
        [
         "2026",
         "60.12",
         "5.7",
         "14.64",
         "1.32"
        ],
        [
         "2027",
         "60.49",
         "5.75",
         "14.63",
         "1.34"
        ],
        [
         "2028",
         "60.86",
         "5.8",
         "14.62",
         "1.36"
        ],
        [
         "2029",
         "61.23",
         "5.85",
         "14.61",
         "1.38"
        ],
        [
         "2030",
         "61.6",
         "5.9",
         "14.6",
         "1.4"
        ]
       ],
       "shape": {
        "columns": 4,
        "rows": 21
       }
      },
      "text/html": [
       "<div>\n",
       "<style scoped>\n",
       "    .dataframe tbody tr th:only-of-type {\n",
       "        vertical-align: middle;\n",
       "    }\n",
       "\n",
       "    .dataframe tbody tr th {\n",
       "        vertical-align: top;\n",
       "    }\n",
       "\n",
       "    .dataframe thead th {\n",
       "        text-align: right;\n",
       "    }\n",
       "</style>\n",
       "<table border=\"1\" class=\"dataframe\">\n",
       "  <thead>\n",
       "    <tr style=\"text-align: right;\">\n",
       "      <th>NCD</th>\n",
       "      <th>Hypertension</th>\n",
       "      <th>Diabetes</th>\n",
       "      <th>Heartproblems</th>\n",
       "      <th>Stroke</th>\n",
       "    </tr>\n",
       "  </thead>\n",
       "  <tbody>\n",
       "    <tr>\n",
       "      <th>2010</th>\n",
       "      <td>54.20</td>\n",
       "      <td>4.90</td>\n",
       "      <td>14.80</td>\n",
       "      <td>1.00</td>\n",
       "    </tr>\n",
       "    <tr>\n",
       "      <th>2011</th>\n",
       "      <td>54.57</td>\n",
       "      <td>4.95</td>\n",
       "      <td>14.79</td>\n",
       "      <td>1.02</td>\n",
       "    </tr>\n",
       "    <tr>\n",
       "      <th>2012</th>\n",
       "      <td>54.94</td>\n",
       "      <td>5.00</td>\n",
       "      <td>14.78</td>\n",
       "      <td>1.04</td>\n",
       "    </tr>\n",
       "    <tr>\n",
       "      <th>2013</th>\n",
       "      <td>55.31</td>\n",
       "      <td>5.05</td>\n",
       "      <td>14.77</td>\n",
       "      <td>1.06</td>\n",
       "    </tr>\n",
       "    <tr>\n",
       "      <th>2014</th>\n",
       "      <td>55.68</td>\n",
       "      <td>5.10</td>\n",
       "      <td>14.76</td>\n",
       "      <td>1.08</td>\n",
       "    </tr>\n",
       "    <tr>\n",
       "      <th>2015</th>\n",
       "      <td>56.05</td>\n",
       "      <td>5.15</td>\n",
       "      <td>14.75</td>\n",
       "      <td>1.10</td>\n",
       "    </tr>\n",
       "    <tr>\n",
       "      <th>2016</th>\n",
       "      <td>56.42</td>\n",
       "      <td>5.20</td>\n",
       "      <td>14.74</td>\n",
       "      <td>1.12</td>\n",
       "    </tr>\n",
       "    <tr>\n",
       "      <th>2017</th>\n",
       "      <td>56.79</td>\n",
       "      <td>5.25</td>\n",
       "      <td>14.73</td>\n",
       "      <td>1.14</td>\n",
       "    </tr>\n",
       "    <tr>\n",
       "      <th>2018</th>\n",
       "      <td>57.16</td>\n",
       "      <td>5.30</td>\n",
       "      <td>14.72</td>\n",
       "      <td>1.16</td>\n",
       "    </tr>\n",
       "    <tr>\n",
       "      <th>2019</th>\n",
       "      <td>57.53</td>\n",
       "      <td>5.35</td>\n",
       "      <td>14.71</td>\n",
       "      <td>1.18</td>\n",
       "    </tr>\n",
       "    <tr>\n",
       "      <th>2020</th>\n",
       "      <td>57.90</td>\n",
       "      <td>5.40</td>\n",
       "      <td>14.70</td>\n",
       "      <td>1.20</td>\n",
       "    </tr>\n",
       "    <tr>\n",
       "      <th>2021</th>\n",
       "      <td>58.27</td>\n",
       "      <td>5.45</td>\n",
       "      <td>14.69</td>\n",
       "      <td>1.22</td>\n",
       "    </tr>\n",
       "    <tr>\n",
       "      <th>2022</th>\n",
       "      <td>58.64</td>\n",
       "      <td>5.50</td>\n",
       "      <td>14.68</td>\n",
       "      <td>1.24</td>\n",
       "    </tr>\n",
       "    <tr>\n",
       "      <th>2023</th>\n",
       "      <td>59.01</td>\n",
       "      <td>5.55</td>\n",
       "      <td>14.67</td>\n",
       "      <td>1.26</td>\n",
       "    </tr>\n",
       "    <tr>\n",
       "      <th>2024</th>\n",
       "      <td>59.38</td>\n",
       "      <td>5.60</td>\n",
       "      <td>14.66</td>\n",
       "      <td>1.28</td>\n",
       "    </tr>\n",
       "    <tr>\n",
       "      <th>2025</th>\n",
       "      <td>59.75</td>\n",
       "      <td>5.65</td>\n",
       "      <td>14.65</td>\n",
       "      <td>1.30</td>\n",
       "    </tr>\n",
       "    <tr>\n",
       "      <th>2026</th>\n",
       "      <td>60.12</td>\n",
       "      <td>5.70</td>\n",
       "      <td>14.64</td>\n",
       "      <td>1.32</td>\n",
       "    </tr>\n",
       "    <tr>\n",
       "      <th>2027</th>\n",
       "      <td>60.49</td>\n",
       "      <td>5.75</td>\n",
       "      <td>14.63</td>\n",
       "      <td>1.34</td>\n",
       "    </tr>\n",
       "    <tr>\n",
       "      <th>2028</th>\n",
       "      <td>60.86</td>\n",
       "      <td>5.80</td>\n",
       "      <td>14.62</td>\n",
       "      <td>1.36</td>\n",
       "    </tr>\n",
       "    <tr>\n",
       "      <th>2029</th>\n",
       "      <td>61.23</td>\n",
       "      <td>5.85</td>\n",
       "      <td>14.61</td>\n",
       "      <td>1.38</td>\n",
       "    </tr>\n",
       "    <tr>\n",
       "      <th>2030</th>\n",
       "      <td>61.60</td>\n",
       "      <td>5.90</td>\n",
       "      <td>14.60</td>\n",
       "      <td>1.40</td>\n",
       "    </tr>\n",
       "  </tbody>\n",
       "</table>\n",
       "</div>"
      ],
      "text/plain": [
       "NCD   Hypertension  Diabetes  Heartproblems  Stroke\n",
       "2010         54.20      4.90          14.80    1.00\n",
       "2011         54.57      4.95          14.79    1.02\n",
       "2012         54.94      5.00          14.78    1.04\n",
       "2013         55.31      5.05          14.77    1.06\n",
       "2014         55.68      5.10          14.76    1.08\n",
       "2015         56.05      5.15          14.75    1.10\n",
       "2016         56.42      5.20          14.74    1.12\n",
       "2017         56.79      5.25          14.73    1.14\n",
       "2018         57.16      5.30          14.72    1.16\n",
       "2019         57.53      5.35          14.71    1.18\n",
       "2020         57.90      5.40          14.70    1.20\n",
       "2021         58.27      5.45          14.69    1.22\n",
       "2022         58.64      5.50          14.68    1.24\n",
       "2023         59.01      5.55          14.67    1.26\n",
       "2024         59.38      5.60          14.66    1.28\n",
       "2025         59.75      5.65          14.65    1.30\n",
       "2026         60.12      5.70          14.64    1.32\n",
       "2027         60.49      5.75          14.63    1.34\n",
       "2028         60.86      5.80          14.62    1.36\n",
       "2029         61.23      5.85          14.61    1.38\n",
       "2030         61.60      5.90          14.60    1.40"
      ]
     },
     "execution_count": 20,
     "metadata": {},
     "output_type": "execute_result"
    }
   ],
   "source": [
    "# set all column type to float\n",
    "final_df_corrected = final_df_corrected.astype(float)\n",
    "final_df_corrected = final_df_corrected.round(2)\n",
    "final_df_corrected"
   ]
  },
  {
   "cell_type": "code",
   "execution_count": 36,
   "metadata": {},
   "outputs": [],
   "source": [
    "final_df_corrected.to_csv('ncd_prevalence_cleaned.csv')"
   ]
  },
  {
   "cell_type": "code",
   "execution_count": 21,
   "metadata": {},
   "outputs": [],
   "source": [
    "import matplotlib.pyplot as plt"
   ]
  },
  {
   "cell_type": "code",
   "execution_count": 30,
   "metadata": {},
   "outputs": [],
   "source": [
    "import plotly.express as px\n",
    "\n",
    "def line_chart(data, column):\n",
    "    fig = px.line(data.reset_index(), x='index', y=column, title=column, labels={'index': 'Year', column: 'Prevalence (%)'})\n",
    "    fig.update_layout(\n",
    "        xaxis=dict(tickmode='linear', tick0=2010, dtick=1),\n",
    "        xaxis_title='Year',\n",
    "        yaxis_title='Prevalence (%)',\n",
    "        template='plotly_white'\n",
    "    )\n",
    "    \n",
    "    return fig\n",
    "\n",
    "    \n"
   ]
  },
  {
   "cell_type": "code",
   "execution_count": 31,
   "metadata": {},
   "outputs": [
    {
     "data": {
      "application/vnd.plotly.v1+json": {
       "config": {
        "plotlyServerURL": "https://plot.ly"
       },
       "data": [
        {
         "hovertemplate": "Year=%{x}<br>Prevalence (%)=%{y}<extra></extra>",
         "legendgroup": "",
         "line": {
          "color": "#636efa",
          "dash": "solid"
         },
         "marker": {
          "symbol": "circle"
         },
         "mode": "lines",
         "name": "",
         "orientation": "v",
         "showlegend": false,
         "type": "scatter",
         "x": [
          2010,
          2011,
          2012,
          2013,
          2014,
          2015,
          2016,
          2017,
          2018,
          2019,
          2020,
          2021,
          2022,
          2023,
          2024,
          2025,
          2026,
          2027,
          2028,
          2029,
          2030
         ],
         "xaxis": "x",
         "y": [
          54.2,
          54.57,
          54.94,
          55.31,
          55.68,
          56.05,
          56.42,
          56.79,
          57.16,
          57.53,
          57.9,
          58.27,
          58.64,
          59.01,
          59.38,
          59.75,
          60.12,
          60.49,
          60.86,
          61.23,
          61.6
         ],
         "yaxis": "y"
        }
       ],
       "layout": {
        "legend": {
         "tracegroupgap": 0
        },
        "template": {
         "data": {
          "bar": [
           {
            "error_x": {
             "color": "#2a3f5f"
            },
            "error_y": {
             "color": "#2a3f5f"
            },
            "marker": {
             "line": {
              "color": "white",
              "width": 0.5
             },
             "pattern": {
              "fillmode": "overlay",
              "size": 10,
              "solidity": 0.2
             }
            },
            "type": "bar"
           }
          ],
          "barpolar": [
           {
            "marker": {
             "line": {
              "color": "white",
              "width": 0.5
             },
             "pattern": {
              "fillmode": "overlay",
              "size": 10,
              "solidity": 0.2
             }
            },
            "type": "barpolar"
           }
          ],
          "carpet": [
           {
            "aaxis": {
             "endlinecolor": "#2a3f5f",
             "gridcolor": "#C8D4E3",
             "linecolor": "#C8D4E3",
             "minorgridcolor": "#C8D4E3",
             "startlinecolor": "#2a3f5f"
            },
            "baxis": {
             "endlinecolor": "#2a3f5f",
             "gridcolor": "#C8D4E3",
             "linecolor": "#C8D4E3",
             "minorgridcolor": "#C8D4E3",
             "startlinecolor": "#2a3f5f"
            },
            "type": "carpet"
           }
          ],
          "choropleth": [
           {
            "colorbar": {
             "outlinewidth": 0,
             "ticks": ""
            },
            "type": "choropleth"
           }
          ],
          "contour": [
           {
            "colorbar": {
             "outlinewidth": 0,
             "ticks": ""
            },
            "colorscale": [
             [
              0,
              "#0d0887"
             ],
             [
              0.1111111111111111,
              "#46039f"
             ],
             [
              0.2222222222222222,
              "#7201a8"
             ],
             [
              0.3333333333333333,
              "#9c179e"
             ],
             [
              0.4444444444444444,
              "#bd3786"
             ],
             [
              0.5555555555555556,
              "#d8576b"
             ],
             [
              0.6666666666666666,
              "#ed7953"
             ],
             [
              0.7777777777777778,
              "#fb9f3a"
             ],
             [
              0.8888888888888888,
              "#fdca26"
             ],
             [
              1,
              "#f0f921"
             ]
            ],
            "type": "contour"
           }
          ],
          "contourcarpet": [
           {
            "colorbar": {
             "outlinewidth": 0,
             "ticks": ""
            },
            "type": "contourcarpet"
           }
          ],
          "heatmap": [
           {
            "colorbar": {
             "outlinewidth": 0,
             "ticks": ""
            },
            "colorscale": [
             [
              0,
              "#0d0887"
             ],
             [
              0.1111111111111111,
              "#46039f"
             ],
             [
              0.2222222222222222,
              "#7201a8"
             ],
             [
              0.3333333333333333,
              "#9c179e"
             ],
             [
              0.4444444444444444,
              "#bd3786"
             ],
             [
              0.5555555555555556,
              "#d8576b"
             ],
             [
              0.6666666666666666,
              "#ed7953"
             ],
             [
              0.7777777777777778,
              "#fb9f3a"
             ],
             [
              0.8888888888888888,
              "#fdca26"
             ],
             [
              1,
              "#f0f921"
             ]
            ],
            "type": "heatmap"
           }
          ],
          "heatmapgl": [
           {
            "colorbar": {
             "outlinewidth": 0,
             "ticks": ""
            },
            "colorscale": [
             [
              0,
              "#0d0887"
             ],
             [
              0.1111111111111111,
              "#46039f"
             ],
             [
              0.2222222222222222,
              "#7201a8"
             ],
             [
              0.3333333333333333,
              "#9c179e"
             ],
             [
              0.4444444444444444,
              "#bd3786"
             ],
             [
              0.5555555555555556,
              "#d8576b"
             ],
             [
              0.6666666666666666,
              "#ed7953"
             ],
             [
              0.7777777777777778,
              "#fb9f3a"
             ],
             [
              0.8888888888888888,
              "#fdca26"
             ],
             [
              1,
              "#f0f921"
             ]
            ],
            "type": "heatmapgl"
           }
          ],
          "histogram": [
           {
            "marker": {
             "pattern": {
              "fillmode": "overlay",
              "size": 10,
              "solidity": 0.2
             }
            },
            "type": "histogram"
           }
          ],
          "histogram2d": [
           {
            "colorbar": {
             "outlinewidth": 0,
             "ticks": ""
            },
            "colorscale": [
             [
              0,
              "#0d0887"
             ],
             [
              0.1111111111111111,
              "#46039f"
             ],
             [
              0.2222222222222222,
              "#7201a8"
             ],
             [
              0.3333333333333333,
              "#9c179e"
             ],
             [
              0.4444444444444444,
              "#bd3786"
             ],
             [
              0.5555555555555556,
              "#d8576b"
             ],
             [
              0.6666666666666666,
              "#ed7953"
             ],
             [
              0.7777777777777778,
              "#fb9f3a"
             ],
             [
              0.8888888888888888,
              "#fdca26"
             ],
             [
              1,
              "#f0f921"
             ]
            ],
            "type": "histogram2d"
           }
          ],
          "histogram2dcontour": [
           {
            "colorbar": {
             "outlinewidth": 0,
             "ticks": ""
            },
            "colorscale": [
             [
              0,
              "#0d0887"
             ],
             [
              0.1111111111111111,
              "#46039f"
             ],
             [
              0.2222222222222222,
              "#7201a8"
             ],
             [
              0.3333333333333333,
              "#9c179e"
             ],
             [
              0.4444444444444444,
              "#bd3786"
             ],
             [
              0.5555555555555556,
              "#d8576b"
             ],
             [
              0.6666666666666666,
              "#ed7953"
             ],
             [
              0.7777777777777778,
              "#fb9f3a"
             ],
             [
              0.8888888888888888,
              "#fdca26"
             ],
             [
              1,
              "#f0f921"
             ]
            ],
            "type": "histogram2dcontour"
           }
          ],
          "mesh3d": [
           {
            "colorbar": {
             "outlinewidth": 0,
             "ticks": ""
            },
            "type": "mesh3d"
           }
          ],
          "parcoords": [
           {
            "line": {
             "colorbar": {
              "outlinewidth": 0,
              "ticks": ""
             }
            },
            "type": "parcoords"
           }
          ],
          "pie": [
           {
            "automargin": true,
            "type": "pie"
           }
          ],
          "scatter": [
           {
            "fillpattern": {
             "fillmode": "overlay",
             "size": 10,
             "solidity": 0.2
            },
            "type": "scatter"
           }
          ],
          "scatter3d": [
           {
            "line": {
             "colorbar": {
              "outlinewidth": 0,
              "ticks": ""
             }
            },
            "marker": {
             "colorbar": {
              "outlinewidth": 0,
              "ticks": ""
             }
            },
            "type": "scatter3d"
           }
          ],
          "scattercarpet": [
           {
            "marker": {
             "colorbar": {
              "outlinewidth": 0,
              "ticks": ""
             }
            },
            "type": "scattercarpet"
           }
          ],
          "scattergeo": [
           {
            "marker": {
             "colorbar": {
              "outlinewidth": 0,
              "ticks": ""
             }
            },
            "type": "scattergeo"
           }
          ],
          "scattergl": [
           {
            "marker": {
             "colorbar": {
              "outlinewidth": 0,
              "ticks": ""
             }
            },
            "type": "scattergl"
           }
          ],
          "scattermapbox": [
           {
            "marker": {
             "colorbar": {
              "outlinewidth": 0,
              "ticks": ""
             }
            },
            "type": "scattermapbox"
           }
          ],
          "scatterpolar": [
           {
            "marker": {
             "colorbar": {
              "outlinewidth": 0,
              "ticks": ""
             }
            },
            "type": "scatterpolar"
           }
          ],
          "scatterpolargl": [
           {
            "marker": {
             "colorbar": {
              "outlinewidth": 0,
              "ticks": ""
             }
            },
            "type": "scatterpolargl"
           }
          ],
          "scatterternary": [
           {
            "marker": {
             "colorbar": {
              "outlinewidth": 0,
              "ticks": ""
             }
            },
            "type": "scatterternary"
           }
          ],
          "surface": [
           {
            "colorbar": {
             "outlinewidth": 0,
             "ticks": ""
            },
            "colorscale": [
             [
              0,
              "#0d0887"
             ],
             [
              0.1111111111111111,
              "#46039f"
             ],
             [
              0.2222222222222222,
              "#7201a8"
             ],
             [
              0.3333333333333333,
              "#9c179e"
             ],
             [
              0.4444444444444444,
              "#bd3786"
             ],
             [
              0.5555555555555556,
              "#d8576b"
             ],
             [
              0.6666666666666666,
              "#ed7953"
             ],
             [
              0.7777777777777778,
              "#fb9f3a"
             ],
             [
              0.8888888888888888,
              "#fdca26"
             ],
             [
              1,
              "#f0f921"
             ]
            ],
            "type": "surface"
           }
          ],
          "table": [
           {
            "cells": {
             "fill": {
              "color": "#EBF0F8"
             },
             "line": {
              "color": "white"
             }
            },
            "header": {
             "fill": {
              "color": "#C8D4E3"
             },
             "line": {
              "color": "white"
             }
            },
            "type": "table"
           }
          ]
         },
         "layout": {
          "annotationdefaults": {
           "arrowcolor": "#2a3f5f",
           "arrowhead": 0,
           "arrowwidth": 1
          },
          "autotypenumbers": "strict",
          "coloraxis": {
           "colorbar": {
            "outlinewidth": 0,
            "ticks": ""
           }
          },
          "colorscale": {
           "diverging": [
            [
             0,
             "#8e0152"
            ],
            [
             0.1,
             "#c51b7d"
            ],
            [
             0.2,
             "#de77ae"
            ],
            [
             0.3,
             "#f1b6da"
            ],
            [
             0.4,
             "#fde0ef"
            ],
            [
             0.5,
             "#f7f7f7"
            ],
            [
             0.6,
             "#e6f5d0"
            ],
            [
             0.7,
             "#b8e186"
            ],
            [
             0.8,
             "#7fbc41"
            ],
            [
             0.9,
             "#4d9221"
            ],
            [
             1,
             "#276419"
            ]
           ],
           "sequential": [
            [
             0,
             "#0d0887"
            ],
            [
             0.1111111111111111,
             "#46039f"
            ],
            [
             0.2222222222222222,
             "#7201a8"
            ],
            [
             0.3333333333333333,
             "#9c179e"
            ],
            [
             0.4444444444444444,
             "#bd3786"
            ],
            [
             0.5555555555555556,
             "#d8576b"
            ],
            [
             0.6666666666666666,
             "#ed7953"
            ],
            [
             0.7777777777777778,
             "#fb9f3a"
            ],
            [
             0.8888888888888888,
             "#fdca26"
            ],
            [
             1,
             "#f0f921"
            ]
           ],
           "sequentialminus": [
            [
             0,
             "#0d0887"
            ],
            [
             0.1111111111111111,
             "#46039f"
            ],
            [
             0.2222222222222222,
             "#7201a8"
            ],
            [
             0.3333333333333333,
             "#9c179e"
            ],
            [
             0.4444444444444444,
             "#bd3786"
            ],
            [
             0.5555555555555556,
             "#d8576b"
            ],
            [
             0.6666666666666666,
             "#ed7953"
            ],
            [
             0.7777777777777778,
             "#fb9f3a"
            ],
            [
             0.8888888888888888,
             "#fdca26"
            ],
            [
             1,
             "#f0f921"
            ]
           ]
          },
          "colorway": [
           "#636efa",
           "#EF553B",
           "#00cc96",
           "#ab63fa",
           "#FFA15A",
           "#19d3f3",
           "#FF6692",
           "#B6E880",
           "#FF97FF",
           "#FECB52"
          ],
          "font": {
           "color": "#2a3f5f"
          },
          "geo": {
           "bgcolor": "white",
           "lakecolor": "white",
           "landcolor": "white",
           "showlakes": true,
           "showland": true,
           "subunitcolor": "#C8D4E3"
          },
          "hoverlabel": {
           "align": "left"
          },
          "hovermode": "closest",
          "mapbox": {
           "style": "light"
          },
          "paper_bgcolor": "white",
          "plot_bgcolor": "white",
          "polar": {
           "angularaxis": {
            "gridcolor": "#EBF0F8",
            "linecolor": "#EBF0F8",
            "ticks": ""
           },
           "bgcolor": "white",
           "radialaxis": {
            "gridcolor": "#EBF0F8",
            "linecolor": "#EBF0F8",
            "ticks": ""
           }
          },
          "scene": {
           "xaxis": {
            "backgroundcolor": "white",
            "gridcolor": "#DFE8F3",
            "gridwidth": 2,
            "linecolor": "#EBF0F8",
            "showbackground": true,
            "ticks": "",
            "zerolinecolor": "#EBF0F8"
           },
           "yaxis": {
            "backgroundcolor": "white",
            "gridcolor": "#DFE8F3",
            "gridwidth": 2,
            "linecolor": "#EBF0F8",
            "showbackground": true,
            "ticks": "",
            "zerolinecolor": "#EBF0F8"
           },
           "zaxis": {
            "backgroundcolor": "white",
            "gridcolor": "#DFE8F3",
            "gridwidth": 2,
            "linecolor": "#EBF0F8",
            "showbackground": true,
            "ticks": "",
            "zerolinecolor": "#EBF0F8"
           }
          },
          "shapedefaults": {
           "line": {
            "color": "#2a3f5f"
           }
          },
          "ternary": {
           "aaxis": {
            "gridcolor": "#DFE8F3",
            "linecolor": "#A2B1C6",
            "ticks": ""
           },
           "baxis": {
            "gridcolor": "#DFE8F3",
            "linecolor": "#A2B1C6",
            "ticks": ""
           },
           "bgcolor": "white",
           "caxis": {
            "gridcolor": "#DFE8F3",
            "linecolor": "#A2B1C6",
            "ticks": ""
           }
          },
          "title": {
           "x": 0.05
          },
          "xaxis": {
           "automargin": true,
           "gridcolor": "#EBF0F8",
           "linecolor": "#EBF0F8",
           "ticks": "",
           "title": {
            "standoff": 15
           },
           "zerolinecolor": "#EBF0F8",
           "zerolinewidth": 2
          },
          "yaxis": {
           "automargin": true,
           "gridcolor": "#EBF0F8",
           "linecolor": "#EBF0F8",
           "ticks": "",
           "title": {
            "standoff": 15
           },
           "zerolinecolor": "#EBF0F8",
           "zerolinewidth": 2
          }
         }
        },
        "title": {
         "text": "Hypertension"
        },
        "xaxis": {
         "anchor": "y",
         "domain": [
          0,
          1
         ],
         "dtick": 1,
         "tick0": 2010,
         "tickmode": "linear",
         "title": {
          "text": "Year"
         }
        },
        "yaxis": {
         "anchor": "x",
         "domain": [
          0,
          1
         ],
         "title": {
          "text": "Prevalence (%)"
         }
        }
       }
      }
     },
     "metadata": {},
     "output_type": "display_data"
    }
   ],
   "source": [
    "line_chart(final_df_corrected, 'Hypertension')"
   ]
  },
  {
   "cell_type": "code",
   "execution_count": 32,
   "metadata": {},
   "outputs": [
    {
     "name": "stderr",
     "output_type": "stream",
     "text": [
      "C:\\Users\\Zak\\AppData\\Local\\Temp\\ipykernel_12312\\396390836.py:2: SettingWithCopyWarning:\n",
      "\n",
      "\n",
      "A value is trying to be set on a copy of a slice from a DataFrame\n",
      "\n",
      "See the caveats in the documentation: https://pandas.pydata.org/pandas-docs/stable/user_guide/indexing.html#returning-a-view-versus-a-copy\n",
      "\n"
     ]
    }
   ],
   "source": [
    "data_prevalence = data_sliced[['NCD', 'Prevalence 2010 (%)', 'Prevalence 2020 (%)']]\n",
    "data_prevalence.rename(columns={'Prevalence 2010 (%)': 2010, 'Prevalence 2020 (%)': 2020}, inplace=True)\n",
    "data_prevalence\n",
    "\n",
    "# Set 'NCD' as the index and transpose the DataFrame\n",
    "data_prevalence = data_prevalence.set_index(\"NCD\").T\n",
    "\n",
    "# Function to calculate quadratic progression increments\n",
    "def quadratic_increments(start, end, years):\n",
    "    \"\"\"Generate a list of increments that grow quadratically while summing to (end - start).\"\"\"\n",
    "    total_diff = end - start\n",
    "    weights = np.array([(i+1)**2 for i in range(years)])  # Quadratic growth\n",
    "    weights = weights / weights.sum()  # Normalize so that sum of weights is 1\n",
    "    increments = weights * total_diff  # Scale weights to match total difference\n",
    "    return increments\n",
    "\n",
    "# Generate new yearly values using quadratic progression for 2011-2019\n",
    "years_range = list(range(2011, 2020))\n",
    "quadratic_growth = {year: {} for year in years_range}\n",
    "\n",
    "for ncd in data_prevalence.columns:\n",
    "    inc_values = quadratic_increments(data_prevalence.loc[2010, ncd], data_prevalence.loc[2020, ncd], 10)\n",
    "    for i, year in enumerate(years_range):\n",
    "        quadratic_growth[year][ncd] = data_prevalence.loc[2010, ncd] + sum(inc_values[:i+1])\n",
    "\n",
    "# Convert to DataFrame\n",
    "data_extended_quadratic = pd.DataFrame(quadratic_growth).T\n",
    "\n",
    "# Append original 2010 and 2020 data\n",
    "data_extended_quadratic = pd.concat([data_prevalence.loc[[2010]], data_extended_quadratic, data_prevalence.loc[[2020]]])\n",
    "\n",
    "# Extend from 2021 to 2030 using the final year’s increment\n",
    "final_increments = {ncd: quadratic_increments(data_prevalence.loc[2010, ncd], data_prevalence.loc[2020, ncd], 10)[-1] for ncd in data_prevalence.columns}\n",
    "years_2021_2030_quadratic = {\n",
    "    year: data_extended_quadratic.loc[2020] + pd.Series(final_increments) * (year - 2020)\n",
    "    for year in range(2021, 2031)\n",
    "}\n",
    "\n",
    "# Convert to DataFrame\n",
    "data_final_quadratic = pd.DataFrame(years_2021_2030_quadratic).T\n",
    "\n",
    "# Combine all periods into a single DataFrame\n",
    "final_df_quadratic = pd.concat([data_extended_quadratic, data_final_quadratic])"
   ]
  },
  {
   "cell_type": "code",
   "execution_count": 33,
   "metadata": {},
   "outputs": [
    {
     "data": {
      "application/vnd.plotly.v1+json": {
       "config": {
        "plotlyServerURL": "https://plot.ly"
       },
       "data": [
        {
         "hovertemplate": "Year=%{x}<br>Prevalence (%)=%{y}<extra></extra>",
         "legendgroup": "",
         "line": {
          "color": "#636efa",
          "dash": "solid"
         },
         "marker": {
          "symbol": "circle"
         },
         "mode": "lines",
         "name": "",
         "orientation": "h",
         "showlegend": false,
         "type": "scatter",
         "x": [
          2010,
          2011,
          2012,
          2013,
          2014,
          2015,
          2016,
          2017,
          2018,
          2019,
          2020,
          2021,
          2022,
          2023,
          2024,
          2025,
          2026,
          2027,
          2028,
          2029,
          2030
         ],
         "xaxis": "x",
         "y": [
          54.2,
          54.20961038961039,
          54.24805194805195,
          54.334545454545456,
          54.48831168831169,
          54.72857142857143,
          55.07454545454546,
          55.54545454545455,
          56.16051948051948,
          56.93896103896104,
          57.9,
          58.86103896103896,
          59.822077922077916,
          60.783116883116875,
          61.74415584415584,
          62.7051948051948,
          63.66623376623376,
          64.62727272727271,
          65.58831168831168,
          66.54935064935063,
          67.5103896103896
         ],
         "yaxis": "y"
        }
       ],
       "layout": {
        "legend": {
         "tracegroupgap": 0
        },
        "template": {
         "data": {
          "bar": [
           {
            "error_x": {
             "color": "#2a3f5f"
            },
            "error_y": {
             "color": "#2a3f5f"
            },
            "marker": {
             "line": {
              "color": "white",
              "width": 0.5
             },
             "pattern": {
              "fillmode": "overlay",
              "size": 10,
              "solidity": 0.2
             }
            },
            "type": "bar"
           }
          ],
          "barpolar": [
           {
            "marker": {
             "line": {
              "color": "white",
              "width": 0.5
             },
             "pattern": {
              "fillmode": "overlay",
              "size": 10,
              "solidity": 0.2
             }
            },
            "type": "barpolar"
           }
          ],
          "carpet": [
           {
            "aaxis": {
             "endlinecolor": "#2a3f5f",
             "gridcolor": "#C8D4E3",
             "linecolor": "#C8D4E3",
             "minorgridcolor": "#C8D4E3",
             "startlinecolor": "#2a3f5f"
            },
            "baxis": {
             "endlinecolor": "#2a3f5f",
             "gridcolor": "#C8D4E3",
             "linecolor": "#C8D4E3",
             "minorgridcolor": "#C8D4E3",
             "startlinecolor": "#2a3f5f"
            },
            "type": "carpet"
           }
          ],
          "choropleth": [
           {
            "colorbar": {
             "outlinewidth": 0,
             "ticks": ""
            },
            "type": "choropleth"
           }
          ],
          "contour": [
           {
            "colorbar": {
             "outlinewidth": 0,
             "ticks": ""
            },
            "colorscale": [
             [
              0,
              "#0d0887"
             ],
             [
              0.1111111111111111,
              "#46039f"
             ],
             [
              0.2222222222222222,
              "#7201a8"
             ],
             [
              0.3333333333333333,
              "#9c179e"
             ],
             [
              0.4444444444444444,
              "#bd3786"
             ],
             [
              0.5555555555555556,
              "#d8576b"
             ],
             [
              0.6666666666666666,
              "#ed7953"
             ],
             [
              0.7777777777777778,
              "#fb9f3a"
             ],
             [
              0.8888888888888888,
              "#fdca26"
             ],
             [
              1,
              "#f0f921"
             ]
            ],
            "type": "contour"
           }
          ],
          "contourcarpet": [
           {
            "colorbar": {
             "outlinewidth": 0,
             "ticks": ""
            },
            "type": "contourcarpet"
           }
          ],
          "heatmap": [
           {
            "colorbar": {
             "outlinewidth": 0,
             "ticks": ""
            },
            "colorscale": [
             [
              0,
              "#0d0887"
             ],
             [
              0.1111111111111111,
              "#46039f"
             ],
             [
              0.2222222222222222,
              "#7201a8"
             ],
             [
              0.3333333333333333,
              "#9c179e"
             ],
             [
              0.4444444444444444,
              "#bd3786"
             ],
             [
              0.5555555555555556,
              "#d8576b"
             ],
             [
              0.6666666666666666,
              "#ed7953"
             ],
             [
              0.7777777777777778,
              "#fb9f3a"
             ],
             [
              0.8888888888888888,
              "#fdca26"
             ],
             [
              1,
              "#f0f921"
             ]
            ],
            "type": "heatmap"
           }
          ],
          "heatmapgl": [
           {
            "colorbar": {
             "outlinewidth": 0,
             "ticks": ""
            },
            "colorscale": [
             [
              0,
              "#0d0887"
             ],
             [
              0.1111111111111111,
              "#46039f"
             ],
             [
              0.2222222222222222,
              "#7201a8"
             ],
             [
              0.3333333333333333,
              "#9c179e"
             ],
             [
              0.4444444444444444,
              "#bd3786"
             ],
             [
              0.5555555555555556,
              "#d8576b"
             ],
             [
              0.6666666666666666,
              "#ed7953"
             ],
             [
              0.7777777777777778,
              "#fb9f3a"
             ],
             [
              0.8888888888888888,
              "#fdca26"
             ],
             [
              1,
              "#f0f921"
             ]
            ],
            "type": "heatmapgl"
           }
          ],
          "histogram": [
           {
            "marker": {
             "pattern": {
              "fillmode": "overlay",
              "size": 10,
              "solidity": 0.2
             }
            },
            "type": "histogram"
           }
          ],
          "histogram2d": [
           {
            "colorbar": {
             "outlinewidth": 0,
             "ticks": ""
            },
            "colorscale": [
             [
              0,
              "#0d0887"
             ],
             [
              0.1111111111111111,
              "#46039f"
             ],
             [
              0.2222222222222222,
              "#7201a8"
             ],
             [
              0.3333333333333333,
              "#9c179e"
             ],
             [
              0.4444444444444444,
              "#bd3786"
             ],
             [
              0.5555555555555556,
              "#d8576b"
             ],
             [
              0.6666666666666666,
              "#ed7953"
             ],
             [
              0.7777777777777778,
              "#fb9f3a"
             ],
             [
              0.8888888888888888,
              "#fdca26"
             ],
             [
              1,
              "#f0f921"
             ]
            ],
            "type": "histogram2d"
           }
          ],
          "histogram2dcontour": [
           {
            "colorbar": {
             "outlinewidth": 0,
             "ticks": ""
            },
            "colorscale": [
             [
              0,
              "#0d0887"
             ],
             [
              0.1111111111111111,
              "#46039f"
             ],
             [
              0.2222222222222222,
              "#7201a8"
             ],
             [
              0.3333333333333333,
              "#9c179e"
             ],
             [
              0.4444444444444444,
              "#bd3786"
             ],
             [
              0.5555555555555556,
              "#d8576b"
             ],
             [
              0.6666666666666666,
              "#ed7953"
             ],
             [
              0.7777777777777778,
              "#fb9f3a"
             ],
             [
              0.8888888888888888,
              "#fdca26"
             ],
             [
              1,
              "#f0f921"
             ]
            ],
            "type": "histogram2dcontour"
           }
          ],
          "mesh3d": [
           {
            "colorbar": {
             "outlinewidth": 0,
             "ticks": ""
            },
            "type": "mesh3d"
           }
          ],
          "parcoords": [
           {
            "line": {
             "colorbar": {
              "outlinewidth": 0,
              "ticks": ""
             }
            },
            "type": "parcoords"
           }
          ],
          "pie": [
           {
            "automargin": true,
            "type": "pie"
           }
          ],
          "scatter": [
           {
            "fillpattern": {
             "fillmode": "overlay",
             "size": 10,
             "solidity": 0.2
            },
            "type": "scatter"
           }
          ],
          "scatter3d": [
           {
            "line": {
             "colorbar": {
              "outlinewidth": 0,
              "ticks": ""
             }
            },
            "marker": {
             "colorbar": {
              "outlinewidth": 0,
              "ticks": ""
             }
            },
            "type": "scatter3d"
           }
          ],
          "scattercarpet": [
           {
            "marker": {
             "colorbar": {
              "outlinewidth": 0,
              "ticks": ""
             }
            },
            "type": "scattercarpet"
           }
          ],
          "scattergeo": [
           {
            "marker": {
             "colorbar": {
              "outlinewidth": 0,
              "ticks": ""
             }
            },
            "type": "scattergeo"
           }
          ],
          "scattergl": [
           {
            "marker": {
             "colorbar": {
              "outlinewidth": 0,
              "ticks": ""
             }
            },
            "type": "scattergl"
           }
          ],
          "scattermapbox": [
           {
            "marker": {
             "colorbar": {
              "outlinewidth": 0,
              "ticks": ""
             }
            },
            "type": "scattermapbox"
           }
          ],
          "scatterpolar": [
           {
            "marker": {
             "colorbar": {
              "outlinewidth": 0,
              "ticks": ""
             }
            },
            "type": "scatterpolar"
           }
          ],
          "scatterpolargl": [
           {
            "marker": {
             "colorbar": {
              "outlinewidth": 0,
              "ticks": ""
             }
            },
            "type": "scatterpolargl"
           }
          ],
          "scatterternary": [
           {
            "marker": {
             "colorbar": {
              "outlinewidth": 0,
              "ticks": ""
             }
            },
            "type": "scatterternary"
           }
          ],
          "surface": [
           {
            "colorbar": {
             "outlinewidth": 0,
             "ticks": ""
            },
            "colorscale": [
             [
              0,
              "#0d0887"
             ],
             [
              0.1111111111111111,
              "#46039f"
             ],
             [
              0.2222222222222222,
              "#7201a8"
             ],
             [
              0.3333333333333333,
              "#9c179e"
             ],
             [
              0.4444444444444444,
              "#bd3786"
             ],
             [
              0.5555555555555556,
              "#d8576b"
             ],
             [
              0.6666666666666666,
              "#ed7953"
             ],
             [
              0.7777777777777778,
              "#fb9f3a"
             ],
             [
              0.8888888888888888,
              "#fdca26"
             ],
             [
              1,
              "#f0f921"
             ]
            ],
            "type": "surface"
           }
          ],
          "table": [
           {
            "cells": {
             "fill": {
              "color": "#EBF0F8"
             },
             "line": {
              "color": "white"
             }
            },
            "header": {
             "fill": {
              "color": "#C8D4E3"
             },
             "line": {
              "color": "white"
             }
            },
            "type": "table"
           }
          ]
         },
         "layout": {
          "annotationdefaults": {
           "arrowcolor": "#2a3f5f",
           "arrowhead": 0,
           "arrowwidth": 1
          },
          "autotypenumbers": "strict",
          "coloraxis": {
           "colorbar": {
            "outlinewidth": 0,
            "ticks": ""
           }
          },
          "colorscale": {
           "diverging": [
            [
             0,
             "#8e0152"
            ],
            [
             0.1,
             "#c51b7d"
            ],
            [
             0.2,
             "#de77ae"
            ],
            [
             0.3,
             "#f1b6da"
            ],
            [
             0.4,
             "#fde0ef"
            ],
            [
             0.5,
             "#f7f7f7"
            ],
            [
             0.6,
             "#e6f5d0"
            ],
            [
             0.7,
             "#b8e186"
            ],
            [
             0.8,
             "#7fbc41"
            ],
            [
             0.9,
             "#4d9221"
            ],
            [
             1,
             "#276419"
            ]
           ],
           "sequential": [
            [
             0,
             "#0d0887"
            ],
            [
             0.1111111111111111,
             "#46039f"
            ],
            [
             0.2222222222222222,
             "#7201a8"
            ],
            [
             0.3333333333333333,
             "#9c179e"
            ],
            [
             0.4444444444444444,
             "#bd3786"
            ],
            [
             0.5555555555555556,
             "#d8576b"
            ],
            [
             0.6666666666666666,
             "#ed7953"
            ],
            [
             0.7777777777777778,
             "#fb9f3a"
            ],
            [
             0.8888888888888888,
             "#fdca26"
            ],
            [
             1,
             "#f0f921"
            ]
           ],
           "sequentialminus": [
            [
             0,
             "#0d0887"
            ],
            [
             0.1111111111111111,
             "#46039f"
            ],
            [
             0.2222222222222222,
             "#7201a8"
            ],
            [
             0.3333333333333333,
             "#9c179e"
            ],
            [
             0.4444444444444444,
             "#bd3786"
            ],
            [
             0.5555555555555556,
             "#d8576b"
            ],
            [
             0.6666666666666666,
             "#ed7953"
            ],
            [
             0.7777777777777778,
             "#fb9f3a"
            ],
            [
             0.8888888888888888,
             "#fdca26"
            ],
            [
             1,
             "#f0f921"
            ]
           ]
          },
          "colorway": [
           "#636efa",
           "#EF553B",
           "#00cc96",
           "#ab63fa",
           "#FFA15A",
           "#19d3f3",
           "#FF6692",
           "#B6E880",
           "#FF97FF",
           "#FECB52"
          ],
          "font": {
           "color": "#2a3f5f"
          },
          "geo": {
           "bgcolor": "white",
           "lakecolor": "white",
           "landcolor": "white",
           "showlakes": true,
           "showland": true,
           "subunitcolor": "#C8D4E3"
          },
          "hoverlabel": {
           "align": "left"
          },
          "hovermode": "closest",
          "mapbox": {
           "style": "light"
          },
          "paper_bgcolor": "white",
          "plot_bgcolor": "white",
          "polar": {
           "angularaxis": {
            "gridcolor": "#EBF0F8",
            "linecolor": "#EBF0F8",
            "ticks": ""
           },
           "bgcolor": "white",
           "radialaxis": {
            "gridcolor": "#EBF0F8",
            "linecolor": "#EBF0F8",
            "ticks": ""
           }
          },
          "scene": {
           "xaxis": {
            "backgroundcolor": "white",
            "gridcolor": "#DFE8F3",
            "gridwidth": 2,
            "linecolor": "#EBF0F8",
            "showbackground": true,
            "ticks": "",
            "zerolinecolor": "#EBF0F8"
           },
           "yaxis": {
            "backgroundcolor": "white",
            "gridcolor": "#DFE8F3",
            "gridwidth": 2,
            "linecolor": "#EBF0F8",
            "showbackground": true,
            "ticks": "",
            "zerolinecolor": "#EBF0F8"
           },
           "zaxis": {
            "backgroundcolor": "white",
            "gridcolor": "#DFE8F3",
            "gridwidth": 2,
            "linecolor": "#EBF0F8",
            "showbackground": true,
            "ticks": "",
            "zerolinecolor": "#EBF0F8"
           }
          },
          "shapedefaults": {
           "line": {
            "color": "#2a3f5f"
           }
          },
          "ternary": {
           "aaxis": {
            "gridcolor": "#DFE8F3",
            "linecolor": "#A2B1C6",
            "ticks": ""
           },
           "baxis": {
            "gridcolor": "#DFE8F3",
            "linecolor": "#A2B1C6",
            "ticks": ""
           },
           "bgcolor": "white",
           "caxis": {
            "gridcolor": "#DFE8F3",
            "linecolor": "#A2B1C6",
            "ticks": ""
           }
          },
          "title": {
           "x": 0.05
          },
          "xaxis": {
           "automargin": true,
           "gridcolor": "#EBF0F8",
           "linecolor": "#EBF0F8",
           "ticks": "",
           "title": {
            "standoff": 15
           },
           "zerolinecolor": "#EBF0F8",
           "zerolinewidth": 2
          },
          "yaxis": {
           "automargin": true,
           "gridcolor": "#EBF0F8",
           "linecolor": "#EBF0F8",
           "ticks": "",
           "title": {
            "standoff": 15
           },
           "zerolinecolor": "#EBF0F8",
           "zerolinewidth": 2
          }
         }
        },
        "title": {
         "text": "Hypertension"
        },
        "xaxis": {
         "anchor": "y",
         "domain": [
          0,
          1
         ],
         "dtick": 1,
         "tick0": 2010,
         "tickmode": "linear",
         "title": {
          "text": "Year"
         }
        },
        "yaxis": {
         "anchor": "x",
         "domain": [
          0,
          1
         ],
         "title": {
          "text": "Prevalence (%)"
         }
        }
       }
      }
     },
     "metadata": {},
     "output_type": "display_data"
    }
   ],
   "source": [
    "line_chart(final_df_quadratic, 'Hypertension')"
   ]
  },
  {
   "cell_type": "code",
   "execution_count": 34,
   "metadata": {},
   "outputs": [],
   "source": [
    "import json\n",
    "import pickle\n",
    "\n",
    "fig_1 =  line_chart(final_df_quadratic, 'Hypertension')\n",
    "\n",
    "# save into pickle\n",
    "with open('prevalence_forecast.pkl', 'wb') as f:\n",
    "    pickle.dump(fig_1, f)"
   ]
  },
  {
   "cell_type": "code",
   "execution_count": 35,
   "metadata": {},
   "outputs": [
    {
     "data": {
      "application/vnd.plotly.v1+json": {
       "config": {
        "plotlyServerURL": "https://plot.ly"
       },
       "data": [
        {
         "hovertemplate": "Year=%{x}<br>Prevalence (%)=%{y}<extra></extra>",
         "legendgroup": "",
         "line": {
          "color": "#636efa",
          "dash": "solid"
         },
         "marker": {
          "symbol": "circle"
         },
         "mode": "lines",
         "name": "",
         "orientation": "h",
         "showlegend": false,
         "type": "scatter",
         "x": [
          2010,
          2011,
          2012,
          2013,
          2014,
          2015,
          2016,
          2017,
          2018,
          2019,
          2020,
          2021,
          2022,
          2023,
          2024,
          2025,
          2026,
          2027,
          2028,
          2029,
          2030
         ],
         "xaxis": "x",
         "y": [
          54.2,
          54.20961038961039,
          54.24805194805195,
          54.334545454545456,
          54.48831168831169,
          54.72857142857143,
          55.07454545454546,
          55.54545454545455,
          56.16051948051948,
          56.93896103896104,
          57.9,
          58.86103896103896,
          59.822077922077916,
          60.783116883116875,
          61.74415584415584,
          62.7051948051948,
          63.66623376623376,
          64.62727272727271,
          65.58831168831168,
          66.54935064935063,
          67.5103896103896
         ],
         "yaxis": "y"
        }
       ],
       "layout": {
        "legend": {
         "tracegroupgap": 0
        },
        "template": {
         "data": {
          "bar": [
           {
            "error_x": {
             "color": "#2a3f5f"
            },
            "error_y": {
             "color": "#2a3f5f"
            },
            "marker": {
             "line": {
              "color": "white",
              "width": 0.5
             },
             "pattern": {
              "fillmode": "overlay",
              "size": 10,
              "solidity": 0.2
             }
            },
            "type": "bar"
           }
          ],
          "barpolar": [
           {
            "marker": {
             "line": {
              "color": "white",
              "width": 0.5
             },
             "pattern": {
              "fillmode": "overlay",
              "size": 10,
              "solidity": 0.2
             }
            },
            "type": "barpolar"
           }
          ],
          "carpet": [
           {
            "aaxis": {
             "endlinecolor": "#2a3f5f",
             "gridcolor": "#C8D4E3",
             "linecolor": "#C8D4E3",
             "minorgridcolor": "#C8D4E3",
             "startlinecolor": "#2a3f5f"
            },
            "baxis": {
             "endlinecolor": "#2a3f5f",
             "gridcolor": "#C8D4E3",
             "linecolor": "#C8D4E3",
             "minorgridcolor": "#C8D4E3",
             "startlinecolor": "#2a3f5f"
            },
            "type": "carpet"
           }
          ],
          "choropleth": [
           {
            "colorbar": {
             "outlinewidth": 0,
             "ticks": ""
            },
            "type": "choropleth"
           }
          ],
          "contour": [
           {
            "colorbar": {
             "outlinewidth": 0,
             "ticks": ""
            },
            "colorscale": [
             [
              0,
              "#0d0887"
             ],
             [
              0.1111111111111111,
              "#46039f"
             ],
             [
              0.2222222222222222,
              "#7201a8"
             ],
             [
              0.3333333333333333,
              "#9c179e"
             ],
             [
              0.4444444444444444,
              "#bd3786"
             ],
             [
              0.5555555555555556,
              "#d8576b"
             ],
             [
              0.6666666666666666,
              "#ed7953"
             ],
             [
              0.7777777777777778,
              "#fb9f3a"
             ],
             [
              0.8888888888888888,
              "#fdca26"
             ],
             [
              1,
              "#f0f921"
             ]
            ],
            "type": "contour"
           }
          ],
          "contourcarpet": [
           {
            "colorbar": {
             "outlinewidth": 0,
             "ticks": ""
            },
            "type": "contourcarpet"
           }
          ],
          "heatmap": [
           {
            "colorbar": {
             "outlinewidth": 0,
             "ticks": ""
            },
            "colorscale": [
             [
              0,
              "#0d0887"
             ],
             [
              0.1111111111111111,
              "#46039f"
             ],
             [
              0.2222222222222222,
              "#7201a8"
             ],
             [
              0.3333333333333333,
              "#9c179e"
             ],
             [
              0.4444444444444444,
              "#bd3786"
             ],
             [
              0.5555555555555556,
              "#d8576b"
             ],
             [
              0.6666666666666666,
              "#ed7953"
             ],
             [
              0.7777777777777778,
              "#fb9f3a"
             ],
             [
              0.8888888888888888,
              "#fdca26"
             ],
             [
              1,
              "#f0f921"
             ]
            ],
            "type": "heatmap"
           }
          ],
          "heatmapgl": [
           {
            "colorbar": {
             "outlinewidth": 0,
             "ticks": ""
            },
            "colorscale": [
             [
              0,
              "#0d0887"
             ],
             [
              0.1111111111111111,
              "#46039f"
             ],
             [
              0.2222222222222222,
              "#7201a8"
             ],
             [
              0.3333333333333333,
              "#9c179e"
             ],
             [
              0.4444444444444444,
              "#bd3786"
             ],
             [
              0.5555555555555556,
              "#d8576b"
             ],
             [
              0.6666666666666666,
              "#ed7953"
             ],
             [
              0.7777777777777778,
              "#fb9f3a"
             ],
             [
              0.8888888888888888,
              "#fdca26"
             ],
             [
              1,
              "#f0f921"
             ]
            ],
            "type": "heatmapgl"
           }
          ],
          "histogram": [
           {
            "marker": {
             "pattern": {
              "fillmode": "overlay",
              "size": 10,
              "solidity": 0.2
             }
            },
            "type": "histogram"
           }
          ],
          "histogram2d": [
           {
            "colorbar": {
             "outlinewidth": 0,
             "ticks": ""
            },
            "colorscale": [
             [
              0,
              "#0d0887"
             ],
             [
              0.1111111111111111,
              "#46039f"
             ],
             [
              0.2222222222222222,
              "#7201a8"
             ],
             [
              0.3333333333333333,
              "#9c179e"
             ],
             [
              0.4444444444444444,
              "#bd3786"
             ],
             [
              0.5555555555555556,
              "#d8576b"
             ],
             [
              0.6666666666666666,
              "#ed7953"
             ],
             [
              0.7777777777777778,
              "#fb9f3a"
             ],
             [
              0.8888888888888888,
              "#fdca26"
             ],
             [
              1,
              "#f0f921"
             ]
            ],
            "type": "histogram2d"
           }
          ],
          "histogram2dcontour": [
           {
            "colorbar": {
             "outlinewidth": 0,
             "ticks": ""
            },
            "colorscale": [
             [
              0,
              "#0d0887"
             ],
             [
              0.1111111111111111,
              "#46039f"
             ],
             [
              0.2222222222222222,
              "#7201a8"
             ],
             [
              0.3333333333333333,
              "#9c179e"
             ],
             [
              0.4444444444444444,
              "#bd3786"
             ],
             [
              0.5555555555555556,
              "#d8576b"
             ],
             [
              0.6666666666666666,
              "#ed7953"
             ],
             [
              0.7777777777777778,
              "#fb9f3a"
             ],
             [
              0.8888888888888888,
              "#fdca26"
             ],
             [
              1,
              "#f0f921"
             ]
            ],
            "type": "histogram2dcontour"
           }
          ],
          "mesh3d": [
           {
            "colorbar": {
             "outlinewidth": 0,
             "ticks": ""
            },
            "type": "mesh3d"
           }
          ],
          "parcoords": [
           {
            "line": {
             "colorbar": {
              "outlinewidth": 0,
              "ticks": ""
             }
            },
            "type": "parcoords"
           }
          ],
          "pie": [
           {
            "automargin": true,
            "type": "pie"
           }
          ],
          "scatter": [
           {
            "fillpattern": {
             "fillmode": "overlay",
             "size": 10,
             "solidity": 0.2
            },
            "type": "scatter"
           }
          ],
          "scatter3d": [
           {
            "line": {
             "colorbar": {
              "outlinewidth": 0,
              "ticks": ""
             }
            },
            "marker": {
             "colorbar": {
              "outlinewidth": 0,
              "ticks": ""
             }
            },
            "type": "scatter3d"
           }
          ],
          "scattercarpet": [
           {
            "marker": {
             "colorbar": {
              "outlinewidth": 0,
              "ticks": ""
             }
            },
            "type": "scattercarpet"
           }
          ],
          "scattergeo": [
           {
            "marker": {
             "colorbar": {
              "outlinewidth": 0,
              "ticks": ""
             }
            },
            "type": "scattergeo"
           }
          ],
          "scattergl": [
           {
            "marker": {
             "colorbar": {
              "outlinewidth": 0,
              "ticks": ""
             }
            },
            "type": "scattergl"
           }
          ],
          "scattermapbox": [
           {
            "marker": {
             "colorbar": {
              "outlinewidth": 0,
              "ticks": ""
             }
            },
            "type": "scattermapbox"
           }
          ],
          "scatterpolar": [
           {
            "marker": {
             "colorbar": {
              "outlinewidth": 0,
              "ticks": ""
             }
            },
            "type": "scatterpolar"
           }
          ],
          "scatterpolargl": [
           {
            "marker": {
             "colorbar": {
              "outlinewidth": 0,
              "ticks": ""
             }
            },
            "type": "scatterpolargl"
           }
          ],
          "scatterternary": [
           {
            "marker": {
             "colorbar": {
              "outlinewidth": 0,
              "ticks": ""
             }
            },
            "type": "scatterternary"
           }
          ],
          "surface": [
           {
            "colorbar": {
             "outlinewidth": 0,
             "ticks": ""
            },
            "colorscale": [
             [
              0,
              "#0d0887"
             ],
             [
              0.1111111111111111,
              "#46039f"
             ],
             [
              0.2222222222222222,
              "#7201a8"
             ],
             [
              0.3333333333333333,
              "#9c179e"
             ],
             [
              0.4444444444444444,
              "#bd3786"
             ],
             [
              0.5555555555555556,
              "#d8576b"
             ],
             [
              0.6666666666666666,
              "#ed7953"
             ],
             [
              0.7777777777777778,
              "#fb9f3a"
             ],
             [
              0.8888888888888888,
              "#fdca26"
             ],
             [
              1,
              "#f0f921"
             ]
            ],
            "type": "surface"
           }
          ],
          "table": [
           {
            "cells": {
             "fill": {
              "color": "#EBF0F8"
             },
             "line": {
              "color": "white"
             }
            },
            "header": {
             "fill": {
              "color": "#C8D4E3"
             },
             "line": {
              "color": "white"
             }
            },
            "type": "table"
           }
          ]
         },
         "layout": {
          "annotationdefaults": {
           "arrowcolor": "#2a3f5f",
           "arrowhead": 0,
           "arrowwidth": 1
          },
          "autotypenumbers": "strict",
          "coloraxis": {
           "colorbar": {
            "outlinewidth": 0,
            "ticks": ""
           }
          },
          "colorscale": {
           "diverging": [
            [
             0,
             "#8e0152"
            ],
            [
             0.1,
             "#c51b7d"
            ],
            [
             0.2,
             "#de77ae"
            ],
            [
             0.3,
             "#f1b6da"
            ],
            [
             0.4,
             "#fde0ef"
            ],
            [
             0.5,
             "#f7f7f7"
            ],
            [
             0.6,
             "#e6f5d0"
            ],
            [
             0.7,
             "#b8e186"
            ],
            [
             0.8,
             "#7fbc41"
            ],
            [
             0.9,
             "#4d9221"
            ],
            [
             1,
             "#276419"
            ]
           ],
           "sequential": [
            [
             0,
             "#0d0887"
            ],
            [
             0.1111111111111111,
             "#46039f"
            ],
            [
             0.2222222222222222,
             "#7201a8"
            ],
            [
             0.3333333333333333,
             "#9c179e"
            ],
            [
             0.4444444444444444,
             "#bd3786"
            ],
            [
             0.5555555555555556,
             "#d8576b"
            ],
            [
             0.6666666666666666,
             "#ed7953"
            ],
            [
             0.7777777777777778,
             "#fb9f3a"
            ],
            [
             0.8888888888888888,
             "#fdca26"
            ],
            [
             1,
             "#f0f921"
            ]
           ],
           "sequentialminus": [
            [
             0,
             "#0d0887"
            ],
            [
             0.1111111111111111,
             "#46039f"
            ],
            [
             0.2222222222222222,
             "#7201a8"
            ],
            [
             0.3333333333333333,
             "#9c179e"
            ],
            [
             0.4444444444444444,
             "#bd3786"
            ],
            [
             0.5555555555555556,
             "#d8576b"
            ],
            [
             0.6666666666666666,
             "#ed7953"
            ],
            [
             0.7777777777777778,
             "#fb9f3a"
            ],
            [
             0.8888888888888888,
             "#fdca26"
            ],
            [
             1,
             "#f0f921"
            ]
           ]
          },
          "colorway": [
           "#636efa",
           "#EF553B",
           "#00cc96",
           "#ab63fa",
           "#FFA15A",
           "#19d3f3",
           "#FF6692",
           "#B6E880",
           "#FF97FF",
           "#FECB52"
          ],
          "font": {
           "color": "#2a3f5f"
          },
          "geo": {
           "bgcolor": "white",
           "lakecolor": "white",
           "landcolor": "white",
           "showlakes": true,
           "showland": true,
           "subunitcolor": "#C8D4E3"
          },
          "hoverlabel": {
           "align": "left"
          },
          "hovermode": "closest",
          "mapbox": {
           "style": "light"
          },
          "paper_bgcolor": "white",
          "plot_bgcolor": "white",
          "polar": {
           "angularaxis": {
            "gridcolor": "#EBF0F8",
            "linecolor": "#EBF0F8",
            "ticks": ""
           },
           "bgcolor": "white",
           "radialaxis": {
            "gridcolor": "#EBF0F8",
            "linecolor": "#EBF0F8",
            "ticks": ""
           }
          },
          "scene": {
           "xaxis": {
            "backgroundcolor": "white",
            "gridcolor": "#DFE8F3",
            "gridwidth": 2,
            "linecolor": "#EBF0F8",
            "showbackground": true,
            "ticks": "",
            "zerolinecolor": "#EBF0F8"
           },
           "yaxis": {
            "backgroundcolor": "white",
            "gridcolor": "#DFE8F3",
            "gridwidth": 2,
            "linecolor": "#EBF0F8",
            "showbackground": true,
            "ticks": "",
            "zerolinecolor": "#EBF0F8"
           },
           "zaxis": {
            "backgroundcolor": "white",
            "gridcolor": "#DFE8F3",
            "gridwidth": 2,
            "linecolor": "#EBF0F8",
            "showbackground": true,
            "ticks": "",
            "zerolinecolor": "#EBF0F8"
           }
          },
          "shapedefaults": {
           "line": {
            "color": "#2a3f5f"
           }
          },
          "ternary": {
           "aaxis": {
            "gridcolor": "#DFE8F3",
            "linecolor": "#A2B1C6",
            "ticks": ""
           },
           "baxis": {
            "gridcolor": "#DFE8F3",
            "linecolor": "#A2B1C6",
            "ticks": ""
           },
           "bgcolor": "white",
           "caxis": {
            "gridcolor": "#DFE8F3",
            "linecolor": "#A2B1C6",
            "ticks": ""
           }
          },
          "title": {
           "x": 0.05
          },
          "xaxis": {
           "automargin": true,
           "gridcolor": "#EBF0F8",
           "linecolor": "#EBF0F8",
           "ticks": "",
           "title": {
            "standoff": 15
           },
           "zerolinecolor": "#EBF0F8",
           "zerolinewidth": 2
          },
          "yaxis": {
           "automargin": true,
           "gridcolor": "#EBF0F8",
           "linecolor": "#EBF0F8",
           "ticks": "",
           "title": {
            "standoff": 15
           },
           "zerolinecolor": "#EBF0F8",
           "zerolinewidth": 2
          }
         }
        },
        "title": {
         "text": "Hypertension"
        },
        "xaxis": {
         "anchor": "y",
         "domain": [
          0,
          1
         ],
         "dtick": 1,
         "tick0": 2010,
         "tickmode": "linear",
         "title": {
          "text": "Year"
         }
        },
        "yaxis": {
         "anchor": "x",
         "domain": [
          0,
          1
         ],
         "title": {
          "text": "Prevalence (%)"
         }
        }
       }
      }
     },
     "metadata": {},
     "output_type": "display_data"
    }
   ],
   "source": [
    "fig_1"
   ]
  },
  {
   "cell_type": "code",
   "execution_count": 37,
   "metadata": {},
   "outputs": [],
   "source": [
    "final_df_quadratic.to_csv('ncd_prevalence_cleaned.csv')"
   ]
  },
  {
   "cell_type": "markdown",
   "metadata": {},
   "source": [
    "### Population Age 40+"
   ]
  },
  {
   "cell_type": "code",
   "execution_count": 40,
   "metadata": {},
   "outputs": [
    {
     "data": {
      "application/vnd.microsoft.datawrangler.viewer.v0+json": {
       "columns": [
        {
         "name": "index",
         "rawType": "int64",
         "type": "integer"
        },
        {
         "name": "Unnamed: 0",
         "rawType": "object",
         "type": "unknown"
        },
        {
         "name": "2021",
         "rawType": "object",
         "type": "string"
        },
        {
         "name": "Unnamed: 2",
         "rawType": "object",
         "type": "string"
        },
        {
         "name": "Unnamed: 3",
         "rawType": "object",
         "type": "string"
        }
       ],
       "conversionMethod": "pd.DataFrame",
       "ref": "7771c8a5-d03f-475a-a8a7-840e9dc8e193",
       "rows": [
        [
         "0",
         null,
         "February",
         "August",
         "Yearly"
        ],
        [
         "1",
         "15-19",
         "22140124",
         "22119160",
         "-"
        ],
        [
         "2",
         "20-24",
         "21953565",
         "21946727",
         "-"
        ],
        [
         "3",
         "25-29",
         "21709247",
         "21701824",
         "-"
        ],
        [
         "4",
         "30-34",
         "21333009",
         "21333724",
         "-"
        ],
        [
         "5",
         "35-39",
         "20854336",
         "20941858",
         "-"
        ],
        [
         "6",
         "40-44",
         "19676523",
         "19799144",
         "-"
        ],
        [
         "7",
         "45-49",
         "18331384",
         "18455721",
         "-"
        ],
        [
         "8",
         "50-54",
         "16196200",
         "16412807",
         "-"
        ],
        [
         "9",
         "55-59",
         "13593920",
         "13779004",
         "-"
        ],
        [
         "10",
         "60+",
         "29572128",
         "30218330",
         "-"
        ],
        [
         "11",
         "Total",
         "205360436",
         "206708299",
         "-"
        ]
       ],
       "shape": {
        "columns": 4,
        "rows": 12
       }
      },
      "text/html": [
       "<div>\n",
       "<style scoped>\n",
       "    .dataframe tbody tr th:only-of-type {\n",
       "        vertical-align: middle;\n",
       "    }\n",
       "\n",
       "    .dataframe tbody tr th {\n",
       "        vertical-align: top;\n",
       "    }\n",
       "\n",
       "    .dataframe thead th {\n",
       "        text-align: right;\n",
       "    }\n",
       "</style>\n",
       "<table border=\"1\" class=\"dataframe\">\n",
       "  <thead>\n",
       "    <tr style=\"text-align: right;\">\n",
       "      <th></th>\n",
       "      <th>Unnamed: 0</th>\n",
       "      <th>2021</th>\n",
       "      <th>Unnamed: 2</th>\n",
       "      <th>Unnamed: 3</th>\n",
       "    </tr>\n",
       "  </thead>\n",
       "  <tbody>\n",
       "    <tr>\n",
       "      <th>0</th>\n",
       "      <td>NaN</td>\n",
       "      <td>February</td>\n",
       "      <td>August</td>\n",
       "      <td>Yearly</td>\n",
       "    </tr>\n",
       "    <tr>\n",
       "      <th>1</th>\n",
       "      <td>15-19</td>\n",
       "      <td>22140124</td>\n",
       "      <td>22119160</td>\n",
       "      <td>-</td>\n",
       "    </tr>\n",
       "    <tr>\n",
       "      <th>2</th>\n",
       "      <td>20-24</td>\n",
       "      <td>21953565</td>\n",
       "      <td>21946727</td>\n",
       "      <td>-</td>\n",
       "    </tr>\n",
       "    <tr>\n",
       "      <th>3</th>\n",
       "      <td>25-29</td>\n",
       "      <td>21709247</td>\n",
       "      <td>21701824</td>\n",
       "      <td>-</td>\n",
       "    </tr>\n",
       "    <tr>\n",
       "      <th>4</th>\n",
       "      <td>30-34</td>\n",
       "      <td>21333009</td>\n",
       "      <td>21333724</td>\n",
       "      <td>-</td>\n",
       "    </tr>\n",
       "    <tr>\n",
       "      <th>5</th>\n",
       "      <td>35-39</td>\n",
       "      <td>20854336</td>\n",
       "      <td>20941858</td>\n",
       "      <td>-</td>\n",
       "    </tr>\n",
       "    <tr>\n",
       "      <th>6</th>\n",
       "      <td>40-44</td>\n",
       "      <td>19676523</td>\n",
       "      <td>19799144</td>\n",
       "      <td>-</td>\n",
       "    </tr>\n",
       "    <tr>\n",
       "      <th>7</th>\n",
       "      <td>45-49</td>\n",
       "      <td>18331384</td>\n",
       "      <td>18455721</td>\n",
       "      <td>-</td>\n",
       "    </tr>\n",
       "    <tr>\n",
       "      <th>8</th>\n",
       "      <td>50-54</td>\n",
       "      <td>16196200</td>\n",
       "      <td>16412807</td>\n",
       "      <td>-</td>\n",
       "    </tr>\n",
       "    <tr>\n",
       "      <th>9</th>\n",
       "      <td>55-59</td>\n",
       "      <td>13593920</td>\n",
       "      <td>13779004</td>\n",
       "      <td>-</td>\n",
       "    </tr>\n",
       "    <tr>\n",
       "      <th>10</th>\n",
       "      <td>60+</td>\n",
       "      <td>29572128</td>\n",
       "      <td>30218330</td>\n",
       "      <td>-</td>\n",
       "    </tr>\n",
       "    <tr>\n",
       "      <th>11</th>\n",
       "      <td>Total</td>\n",
       "      <td>205360436</td>\n",
       "      <td>206708299</td>\n",
       "      <td>-</td>\n",
       "    </tr>\n",
       "  </tbody>\n",
       "</table>\n",
       "</div>"
      ],
      "text/plain": [
       "   Unnamed: 0       2021 Unnamed: 2 Unnamed: 3\n",
       "0         NaN   February     August     Yearly\n",
       "1       15-19   22140124   22119160          -\n",
       "2       20-24   21953565   21946727          -\n",
       "3       25-29   21709247   21701824          -\n",
       "4       30-34   21333009   21333724          -\n",
       "5       35-39   20854336   20941858          -\n",
       "6       40-44   19676523   19799144          -\n",
       "7       45-49   18331384   18455721          -\n",
       "8       50-54   16196200   16412807          -\n",
       "9       55-59   13593920   13779004          -\n",
       "10        60+   29572128   30218330          -\n",
       "11      Total  205360436  206708299          -"
      ]
     },
     "execution_count": 40,
     "metadata": {},
     "output_type": "execute_result"
    }
   ],
   "source": [
    "population = pd.read_csv('total_population_early_2021.csv', header=2)\n",
    "population"
   ]
  },
  {
   "cell_type": "code",
   "execution_count": 43,
   "metadata": {},
   "outputs": [
    {
     "data": {
      "application/vnd.microsoft.datawrangler.viewer.v0+json": {
       "columns": [
        {
         "name": "index",
         "rawType": "int64",
         "type": "integer"
        },
        {
         "name": "Unnamed: 0",
         "rawType": "object",
         "type": "string"
        },
        {
         "name": "2021",
         "rawType": "object",
         "type": "string"
        },
        {
         "name": "Unnamed: 2",
         "rawType": "object",
         "type": "string"
        },
        {
         "name": "Unnamed: 3",
         "rawType": "object",
         "type": "string"
        }
       ],
       "conversionMethod": "pd.DataFrame",
       "ref": "df79c032-e30f-446a-bd27-f5930cf24f40",
       "rows": [
        [
         "6",
         "40-44",
         "19676523",
         "19799144",
         "-"
        ],
        [
         "7",
         "45-49",
         "18331384",
         "18455721",
         "-"
        ],
        [
         "8",
         "50-54",
         "16196200",
         "16412807",
         "-"
        ],
        [
         "9",
         "55-59",
         "13593920",
         "13779004",
         "-"
        ],
        [
         "10",
         "60+",
         "29572128",
         "30218330",
         "-"
        ]
       ],
       "shape": {
        "columns": 4,
        "rows": 5
       }
      },
      "text/html": [
       "<div>\n",
       "<style scoped>\n",
       "    .dataframe tbody tr th:only-of-type {\n",
       "        vertical-align: middle;\n",
       "    }\n",
       "\n",
       "    .dataframe tbody tr th {\n",
       "        vertical-align: top;\n",
       "    }\n",
       "\n",
       "    .dataframe thead th {\n",
       "        text-align: right;\n",
       "    }\n",
       "</style>\n",
       "<table border=\"1\" class=\"dataframe\">\n",
       "  <thead>\n",
       "    <tr style=\"text-align: right;\">\n",
       "      <th></th>\n",
       "      <th>Unnamed: 0</th>\n",
       "      <th>2021</th>\n",
       "      <th>Unnamed: 2</th>\n",
       "      <th>Unnamed: 3</th>\n",
       "    </tr>\n",
       "  </thead>\n",
       "  <tbody>\n",
       "    <tr>\n",
       "      <th>6</th>\n",
       "      <td>40-44</td>\n",
       "      <td>19676523</td>\n",
       "      <td>19799144</td>\n",
       "      <td>-</td>\n",
       "    </tr>\n",
       "    <tr>\n",
       "      <th>7</th>\n",
       "      <td>45-49</td>\n",
       "      <td>18331384</td>\n",
       "      <td>18455721</td>\n",
       "      <td>-</td>\n",
       "    </tr>\n",
       "    <tr>\n",
       "      <th>8</th>\n",
       "      <td>50-54</td>\n",
       "      <td>16196200</td>\n",
       "      <td>16412807</td>\n",
       "      <td>-</td>\n",
       "    </tr>\n",
       "    <tr>\n",
       "      <th>9</th>\n",
       "      <td>55-59</td>\n",
       "      <td>13593920</td>\n",
       "      <td>13779004</td>\n",
       "      <td>-</td>\n",
       "    </tr>\n",
       "    <tr>\n",
       "      <th>10</th>\n",
       "      <td>60+</td>\n",
       "      <td>29572128</td>\n",
       "      <td>30218330</td>\n",
       "      <td>-</td>\n",
       "    </tr>\n",
       "  </tbody>\n",
       "</table>\n",
       "</div>"
      ],
      "text/plain": [
       "   Unnamed: 0      2021 Unnamed: 2 Unnamed: 3\n",
       "6       40-44  19676523   19799144          -\n",
       "7       45-49  18331384   18455721          -\n",
       "8       50-54  16196200   16412807          -\n",
       "9       55-59  13593920   13779004          -\n",
       "10        60+  29572128   30218330          -"
      ]
     },
     "execution_count": 43,
     "metadata": {},
     "output_type": "execute_result"
    }
   ],
   "source": [
    "population_slice = population[6:-1]\n",
    "population_slice"
   ]
  },
  {
   "cell_type": "code",
   "execution_count": 47,
   "metadata": {},
   "outputs": [
    {
     "name": "stderr",
     "output_type": "stream",
     "text": [
      "C:\\Users\\Zak\\AppData\\Local\\Temp\\ipykernel_12312\\4173423378.py:2: SettingWithCopyWarning:\n",
      "\n",
      "\n",
      "A value is trying to be set on a copy of a slice from a DataFrame.\n",
      "Try using .loc[row_indexer,col_indexer] = value instead\n",
      "\n",
      "See the caveats in the documentation: https://pandas.pydata.org/pandas-docs/stable/user_guide/indexing.html#returning-a-view-versus-a-copy\n",
      "\n",
      "C:\\Users\\Zak\\AppData\\Local\\Temp\\ipykernel_12312\\4173423378.py:3: SettingWithCopyWarning:\n",
      "\n",
      "\n",
      "A value is trying to be set on a copy of a slice from a DataFrame.\n",
      "Try using .loc[row_indexer,col_indexer] = value instead\n",
      "\n",
      "See the caveats in the documentation: https://pandas.pydata.org/pandas-docs/stable/user_guide/indexing.html#returning-a-view-versus-a-copy\n",
      "\n"
     ]
    },
    {
     "data": {
      "application/vnd.microsoft.datawrangler.viewer.v0+json": {
       "columns": [
        {
         "name": "index",
         "rawType": "int64",
         "type": "integer"
        },
        {
         "name": "Unnamed: 0",
         "rawType": "object",
         "type": "string"
        },
        {
         "name": "2021",
         "rawType": "int32",
         "type": "integer"
        },
        {
         "name": "Unnamed: 2",
         "rawType": "object",
         "type": "string"
        },
        {
         "name": "Unnamed: 3",
         "rawType": "object",
         "type": "string"
        }
       ],
       "conversionMethod": "pd.DataFrame",
       "ref": "0a5e6aab-25ec-4904-be98-46edf8a6ae21",
       "rows": [
        [
         "6",
         "40-44",
         "19676523",
         "19799144",
         "-"
        ],
        [
         "7",
         "45-49",
         "18331384",
         "18455721",
         "-"
        ],
        [
         "8",
         "50-54",
         "16196200",
         "16412807",
         "-"
        ],
        [
         "9",
         "55-59",
         "13593920",
         "13779004",
         "-"
        ],
        [
         "10",
         "60+",
         "29572128",
         "30218330",
         "-"
        ]
       ],
       "shape": {
        "columns": 4,
        "rows": 5
       }
      },
      "text/html": [
       "<div>\n",
       "<style scoped>\n",
       "    .dataframe tbody tr th:only-of-type {\n",
       "        vertical-align: middle;\n",
       "    }\n",
       "\n",
       "    .dataframe tbody tr th {\n",
       "        vertical-align: top;\n",
       "    }\n",
       "\n",
       "    .dataframe thead th {\n",
       "        text-align: right;\n",
       "    }\n",
       "</style>\n",
       "<table border=\"1\" class=\"dataframe\">\n",
       "  <thead>\n",
       "    <tr style=\"text-align: right;\">\n",
       "      <th></th>\n",
       "      <th>Unnamed: 0</th>\n",
       "      <th>2021</th>\n",
       "      <th>Unnamed: 2</th>\n",
       "      <th>Unnamed: 3</th>\n",
       "    </tr>\n",
       "  </thead>\n",
       "  <tbody>\n",
       "    <tr>\n",
       "      <th>6</th>\n",
       "      <td>40-44</td>\n",
       "      <td>19676523</td>\n",
       "      <td>19799144</td>\n",
       "      <td>-</td>\n",
       "    </tr>\n",
       "    <tr>\n",
       "      <th>7</th>\n",
       "      <td>45-49</td>\n",
       "      <td>18331384</td>\n",
       "      <td>18455721</td>\n",
       "      <td>-</td>\n",
       "    </tr>\n",
       "    <tr>\n",
       "      <th>8</th>\n",
       "      <td>50-54</td>\n",
       "      <td>16196200</td>\n",
       "      <td>16412807</td>\n",
       "      <td>-</td>\n",
       "    </tr>\n",
       "    <tr>\n",
       "      <th>9</th>\n",
       "      <td>55-59</td>\n",
       "      <td>13593920</td>\n",
       "      <td>13779004</td>\n",
       "      <td>-</td>\n",
       "    </tr>\n",
       "    <tr>\n",
       "      <th>10</th>\n",
       "      <td>60+</td>\n",
       "      <td>29572128</td>\n",
       "      <td>30218330</td>\n",
       "      <td>-</td>\n",
       "    </tr>\n",
       "  </tbody>\n",
       "</table>\n",
       "</div>"
      ],
      "text/plain": [
       "   Unnamed: 0      2021 Unnamed: 2 Unnamed: 3\n",
       "6       40-44  19676523   19799144          -\n",
       "7       45-49  18331384   18455721          -\n",
       "8       50-54  16196200   16412807          -\n",
       "9       55-59  13593920   13779004          -\n",
       "10        60+  29572128   30218330          -"
      ]
     },
     "execution_count": 47,
     "metadata": {},
     "output_type": "execute_result"
    }
   ],
   "source": [
    "# change column 2021 to numeric\n",
    "population_slice['2021'] = population_slice['2021'].str.replace(',', '')\n",
    "population_slice['2021'] = population_slice['2021'].astype(int)\n",
    "\n",
    "population_slice"
   ]
  },
  {
   "cell_type": "code",
   "execution_count": 48,
   "metadata": {},
   "outputs": [
    {
     "name": "stderr",
     "output_type": "stream",
     "text": [
      "C:\\Users\\Zak\\AppData\\Local\\Temp\\ipykernel_12312\\3408306508.py:2: SettingWithCopyWarning:\n",
      "\n",
      "\n",
      "A value is trying to be set on a copy of a slice from a DataFrame.\n",
      "Try using .loc[row_indexer,col_indexer] = value instead\n",
      "\n",
      "See the caveats in the documentation: https://pandas.pydata.org/pandas-docs/stable/user_guide/indexing.html#returning-a-view-versus-a-copy\n",
      "\n",
      "C:\\Users\\Zak\\AppData\\Local\\Temp\\ipykernel_12312\\3408306508.py:3: SettingWithCopyWarning:\n",
      "\n",
      "\n",
      "A value is trying to be set on a copy of a slice from a DataFrame.\n",
      "Try using .loc[row_indexer,col_indexer] = value instead\n",
      "\n",
      "See the caveats in the documentation: https://pandas.pydata.org/pandas-docs/stable/user_guide/indexing.html#returning-a-view-versus-a-copy\n",
      "\n"
     ]
    },
    {
     "data": {
      "application/vnd.microsoft.datawrangler.viewer.v0+json": {
       "columns": [
        {
         "name": "index",
         "rawType": "int64",
         "type": "integer"
        },
        {
         "name": "Unnamed: 0",
         "rawType": "object",
         "type": "string"
        },
        {
         "name": "2021",
         "rawType": "int32",
         "type": "integer"
        },
        {
         "name": "Unnamed: 2",
         "rawType": "int32",
         "type": "integer"
        },
        {
         "name": "Unnamed: 3",
         "rawType": "object",
         "type": "string"
        }
       ],
       "conversionMethod": "pd.DataFrame",
       "ref": "4e3a3677-0bc4-4dc2-a36f-89cf10971d30",
       "rows": [
        [
         "6",
         "40-44",
         "19676523",
         "19799144",
         "-"
        ],
        [
         "7",
         "45-49",
         "18331384",
         "18455721",
         "-"
        ],
        [
         "8",
         "50-54",
         "16196200",
         "16412807",
         "-"
        ],
        [
         "9",
         "55-59",
         "13593920",
         "13779004",
         "-"
        ],
        [
         "10",
         "60+",
         "29572128",
         "30218330",
         "-"
        ]
       ],
       "shape": {
        "columns": 4,
        "rows": 5
       }
      },
      "text/html": [
       "<div>\n",
       "<style scoped>\n",
       "    .dataframe tbody tr th:only-of-type {\n",
       "        vertical-align: middle;\n",
       "    }\n",
       "\n",
       "    .dataframe tbody tr th {\n",
       "        vertical-align: top;\n",
       "    }\n",
       "\n",
       "    .dataframe thead th {\n",
       "        text-align: right;\n",
       "    }\n",
       "</style>\n",
       "<table border=\"1\" class=\"dataframe\">\n",
       "  <thead>\n",
       "    <tr style=\"text-align: right;\">\n",
       "      <th></th>\n",
       "      <th>Unnamed: 0</th>\n",
       "      <th>2021</th>\n",
       "      <th>Unnamed: 2</th>\n",
       "      <th>Unnamed: 3</th>\n",
       "    </tr>\n",
       "  </thead>\n",
       "  <tbody>\n",
       "    <tr>\n",
       "      <th>6</th>\n",
       "      <td>40-44</td>\n",
       "      <td>19676523</td>\n",
       "      <td>19799144</td>\n",
       "      <td>-</td>\n",
       "    </tr>\n",
       "    <tr>\n",
       "      <th>7</th>\n",
       "      <td>45-49</td>\n",
       "      <td>18331384</td>\n",
       "      <td>18455721</td>\n",
       "      <td>-</td>\n",
       "    </tr>\n",
       "    <tr>\n",
       "      <th>8</th>\n",
       "      <td>50-54</td>\n",
       "      <td>16196200</td>\n",
       "      <td>16412807</td>\n",
       "      <td>-</td>\n",
       "    </tr>\n",
       "    <tr>\n",
       "      <th>9</th>\n",
       "      <td>55-59</td>\n",
       "      <td>13593920</td>\n",
       "      <td>13779004</td>\n",
       "      <td>-</td>\n",
       "    </tr>\n",
       "    <tr>\n",
       "      <th>10</th>\n",
       "      <td>60+</td>\n",
       "      <td>29572128</td>\n",
       "      <td>30218330</td>\n",
       "      <td>-</td>\n",
       "    </tr>\n",
       "  </tbody>\n",
       "</table>\n",
       "</div>"
      ],
      "text/plain": [
       "   Unnamed: 0      2021  Unnamed: 2 Unnamed: 3\n",
       "6       40-44  19676523    19799144          -\n",
       "7       45-49  18331384    18455721          -\n",
       "8       50-54  16196200    16412807          -\n",
       "9       55-59  13593920    13779004          -\n",
       "10        60+  29572128    30218330          -"
      ]
     },
     "execution_count": 48,
     "metadata": {},
     "output_type": "execute_result"
    }
   ],
   "source": [
    "# change column 2021 to numeric\n",
    "population_slice['Unnamed: 2'] = population_slice['Unnamed: 2'].str.replace(',', '')\n",
    "population_slice['Unnamed: 2'] = population_slice['Unnamed: 2'].astype(int)\n",
    "\n",
    "population_slice"
   ]
  },
  {
   "cell_type": "code",
   "execution_count": 49,
   "metadata": {},
   "outputs": [
    {
     "data": {
      "text/plain": [
       "98665006"
      ]
     },
     "execution_count": 49,
     "metadata": {},
     "output_type": "execute_result"
    }
   ],
   "source": [
    "population_slice['Unnamed: 2'].sum()"
   ]
  },
  {
   "cell_type": "markdown",
   "metadata": {},
   "source": [
    "### Economic Burden"
   ]
  },
  {
   "cell_type": "code",
   "execution_count": 51,
   "metadata": {},
   "outputs": [
    {
     "data": {
      "application/vnd.microsoft.datawrangler.viewer.v0+json": {
       "columns": [
        {
         "name": "index",
         "rawType": "int64",
         "type": "integer"
        },
        {
         "name": "NCD",
         "rawType": "object",
         "type": "string"
        },
        {
         "name": "Economic Burden 2010 Total (Int$ billions)",
         "rawType": "object",
         "type": "unknown"
        },
        {
         "name": "Economic Burden 2020 Total (Int$ billions)",
         "rawType": "object",
         "type": "unknown"
        }
       ],
       "conversionMethod": "pd.DataFrame",
       "ref": "5a983a52-6f2e-489b-969f-54a0bda9acfe",
       "rows": [
        [
         "0",
         "Hypertension",
         "1.32",
         "1.93"
        ],
        [
         "1",
         "Diabetes",
         "0.72",
         "1.1400000000000001"
        ],
        [
         "2",
         "Heartproblems",
         "1.57",
         "2.11"
        ],
        [
         "3",
         "Stroke",
         "0.27",
         "0.41000000000000003"
        ]
       ],
       "shape": {
        "columns": 3,
        "rows": 4
       }
      },
      "text/html": [
       "<div>\n",
       "<style scoped>\n",
       "    .dataframe tbody tr th:only-of-type {\n",
       "        vertical-align: middle;\n",
       "    }\n",
       "\n",
       "    .dataframe tbody tr th {\n",
       "        vertical-align: top;\n",
       "    }\n",
       "\n",
       "    .dataframe thead th {\n",
       "        text-align: right;\n",
       "    }\n",
       "</style>\n",
       "<table border=\"1\" class=\"dataframe\">\n",
       "  <thead>\n",
       "    <tr style=\"text-align: right;\">\n",
       "      <th></th>\n",
       "      <th>NCD</th>\n",
       "      <th>Economic Burden 2010 Total (Int$ billions)</th>\n",
       "      <th>Economic Burden 2020 Total (Int$ billions)</th>\n",
       "    </tr>\n",
       "  </thead>\n",
       "  <tbody>\n",
       "    <tr>\n",
       "      <th>0</th>\n",
       "      <td>Hypertension</td>\n",
       "      <td>1.32</td>\n",
       "      <td>1.93</td>\n",
       "    </tr>\n",
       "    <tr>\n",
       "      <th>1</th>\n",
       "      <td>Diabetes</td>\n",
       "      <td>0.72</td>\n",
       "      <td>1.14</td>\n",
       "    </tr>\n",
       "    <tr>\n",
       "      <th>2</th>\n",
       "      <td>Heartproblems</td>\n",
       "      <td>1.57</td>\n",
       "      <td>2.11</td>\n",
       "    </tr>\n",
       "    <tr>\n",
       "      <th>3</th>\n",
       "      <td>Stroke</td>\n",
       "      <td>0.27</td>\n",
       "      <td>0.41</td>\n",
       "    </tr>\n",
       "  </tbody>\n",
       "</table>\n",
       "</div>"
      ],
      "text/plain": [
       "             NCD Economic Burden 2010 Total (Int$ billions)  \\\n",
       "0   Hypertension                                       1.32   \n",
       "1       Diabetes                                       0.72   \n",
       "2  Heartproblems                                       1.57   \n",
       "3         Stroke                                       0.27   \n",
       "\n",
       "  Economic Burden 2020 Total (Int$ billions)  \n",
       "0                                       1.93  \n",
       "1                                       1.14  \n",
       "2                                       2.11  \n",
       "3                                       0.41  "
      ]
     },
     "execution_count": 51,
     "metadata": {},
     "output_type": "execute_result"
    }
   ],
   "source": [
    "# select all rows but only first and last two columns of data_sliced\n",
    "data_sliced = data_sliced.iloc[:, [0, -2, -1]]\n",
    "data_sliced\n"
   ]
  },
  {
   "cell_type": "code",
   "execution_count": 52,
   "metadata": {},
   "outputs": [
    {
     "data": {
      "application/vnd.microsoft.datawrangler.viewer.v0+json": {
       "columns": [
        {
         "name": "index",
         "rawType": "int64",
         "type": "integer"
        },
        {
         "name": "NCD",
         "rawType": "object",
         "type": "string"
        },
        {
         "name": "2010",
         "rawType": "object",
         "type": "unknown"
        },
        {
         "name": "2020",
         "rawType": "object",
         "type": "unknown"
        }
       ],
       "conversionMethod": "pd.DataFrame",
       "ref": "a8d2d770-b4e9-40ed-a911-56ab402693b0",
       "rows": [
        [
         "0",
         "Hypertension",
         "1.32",
         "1.93"
        ],
        [
         "1",
         "Diabetes",
         "0.72",
         "1.1400000000000001"
        ],
        [
         "2",
         "Heartproblems",
         "1.57",
         "2.11"
        ],
        [
         "3",
         "Stroke",
         "0.27",
         "0.41000000000000003"
        ]
       ],
       "shape": {
        "columns": 3,
        "rows": 4
       }
      },
      "text/html": [
       "<div>\n",
       "<style scoped>\n",
       "    .dataframe tbody tr th:only-of-type {\n",
       "        vertical-align: middle;\n",
       "    }\n",
       "\n",
       "    .dataframe tbody tr th {\n",
       "        vertical-align: top;\n",
       "    }\n",
       "\n",
       "    .dataframe thead th {\n",
       "        text-align: right;\n",
       "    }\n",
       "</style>\n",
       "<table border=\"1\" class=\"dataframe\">\n",
       "  <thead>\n",
       "    <tr style=\"text-align: right;\">\n",
       "      <th></th>\n",
       "      <th>NCD</th>\n",
       "      <th>2010</th>\n",
       "      <th>2020</th>\n",
       "    </tr>\n",
       "  </thead>\n",
       "  <tbody>\n",
       "    <tr>\n",
       "      <th>0</th>\n",
       "      <td>Hypertension</td>\n",
       "      <td>1.32</td>\n",
       "      <td>1.93</td>\n",
       "    </tr>\n",
       "    <tr>\n",
       "      <th>1</th>\n",
       "      <td>Diabetes</td>\n",
       "      <td>0.72</td>\n",
       "      <td>1.14</td>\n",
       "    </tr>\n",
       "    <tr>\n",
       "      <th>2</th>\n",
       "      <td>Heartproblems</td>\n",
       "      <td>1.57</td>\n",
       "      <td>2.11</td>\n",
       "    </tr>\n",
       "    <tr>\n",
       "      <th>3</th>\n",
       "      <td>Stroke</td>\n",
       "      <td>0.27</td>\n",
       "      <td>0.41</td>\n",
       "    </tr>\n",
       "  </tbody>\n",
       "</table>\n",
       "</div>"
      ],
      "text/plain": [
       "             NCD  2010  2020\n",
       "0   Hypertension  1.32  1.93\n",
       "1       Diabetes  0.72  1.14\n",
       "2  Heartproblems  1.57  2.11\n",
       "3         Stroke  0.27  0.41"
      ]
     },
     "execution_count": 52,
     "metadata": {},
     "output_type": "execute_result"
    }
   ],
   "source": [
    "# rename the last two column as numerical 2010 and 2020\n",
    "data_sliced.columns = ['NCD', 2010, 2020]\n",
    "data_sliced"
   ]
  },
  {
   "cell_type": "code",
   "execution_count": 56,
   "metadata": {},
   "outputs": [],
   "source": [
    "\n",
    "data_prevalence = data_sliced.copy()\n",
    "\n",
    "# Set 'NCD' as the index and transpose the DataFrame\n",
    "data_prevalence = data_prevalence.set_index(\"NCD\").T\n",
    "\n",
    "# Function to calculate quadratic progression increments\n",
    "def quadratic_increments(start, end, years):\n",
    "    \"\"\"Generate a list of increments that grow quadratically while summing to (end - start).\"\"\"\n",
    "    total_diff = end - start\n",
    "    weights = np.array([(i+1)**2 for i in range(years)])  # Quadratic growth\n",
    "    weights = weights / weights.sum()  # Normalize so that sum of weights is 1\n",
    "    increments = weights * total_diff  # Scale weights to match total difference\n",
    "    return increments\n",
    "\n",
    "# Generate new yearly values using quadratic progression for 2011-2019\n",
    "years_range = list(range(2011, 2020))\n",
    "quadratic_growth = {year: {} for year in years_range}\n",
    "\n",
    "for ncd in data_prevalence.columns:\n",
    "    inc_values = quadratic_increments(data_prevalence.loc[2010, ncd], data_prevalence.loc[2020, ncd], 10)\n",
    "    for i, year in enumerate(years_range):\n",
    "        quadratic_growth[year][ncd] = data_prevalence.loc[2010, ncd] + sum(inc_values[:i+1])\n",
    "\n",
    "# Convert to DataFrame\n",
    "data_extended_quadratic = pd.DataFrame(quadratic_growth).T\n",
    "\n",
    "# Append original 2010 and 2020 data\n",
    "data_extended_quadratic = pd.concat([data_prevalence.loc[[2010]], data_extended_quadratic, data_prevalence.loc[[2020]]])\n",
    "\n",
    "# Extend from 2021 to 2030 using the final year’s increment\n",
    "final_increments = {ncd: quadratic_increments(data_prevalence.loc[2010, ncd], data_prevalence.loc[2020, ncd], 10)[-1] for ncd in data_prevalence.columns}\n",
    "years_2021_2030_quadratic = {\n",
    "    year: data_extended_quadratic.loc[2020] + pd.Series(final_increments) * (year - 2020)\n",
    "    for year in range(2021, 2031)\n",
    "}\n",
    "\n",
    "# Convert to DataFrame\n",
    "data_final_quadratic = pd.DataFrame(years_2021_2030_quadratic).T\n",
    "\n",
    "# Combine all periods into a single DataFrame\n",
    "final_df_quadratic = pd.concat([data_extended_quadratic, data_final_quadratic])"
   ]
  },
  {
   "cell_type": "code",
   "execution_count": 57,
   "metadata": {},
   "outputs": [],
   "source": [
    "final_df_quadratic.to_csv('ncd_economic_burden_cleaned.csv')"
   ]
  },
  {
   "cell_type": "code",
   "execution_count": null,
   "metadata": {},
   "outputs": [],
   "source": []
  }
 ],
 "metadata": {
  "kernelspec": {
   "display_name": "Python 3",
   "language": "python",
   "name": "python3"
  },
  "language_info": {
   "codemirror_mode": {
    "name": "ipython",
    "version": 3
   },
   "file_extension": ".py",
   "mimetype": "text/x-python",
   "name": "python",
   "nbconvert_exporter": "python",
   "pygments_lexer": "ipython3",
   "version": "3.10.9"
  }
 },
 "nbformat": 4,
 "nbformat_minor": 2
}
